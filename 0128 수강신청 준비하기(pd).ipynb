{
 "cells": [
  {
   "cell_type": "markdown",
   "metadata": {},
   "source": [
    "2,000명의 코드잇 대학교 학생들이 수강신청을 했습니다.\n",
    "\n",
    "수강신청에는 다음 3개의 조건이 있습니다.\n",
    "\n",
    "“information technology” 과목은 심화과목이라 1학년은 수강할 수 없습니다.\n",
    "\n",
    "\n",
    "“commerce” 과목은 기초과목이고 많은 학생들이 듣는 수업이라 4학년은 수강할 수 없습니다.\n",
    "\n",
    "\n",
    "수강생이 5명이 되지 않으면 강의는 폐강되어 수강할 수 없습니다.\n",
    "\n",
    "\n",
    "기존 DataFrame에 “status”라는 이름의 column을 추가하고, 학생이 수강 가능한 상태이면 “allowed”, 수강 불가능한 상태이면 “not allowed”를 넣어주세요."
   ]
  },
  {
   "cell_type": "code",
   "execution_count": 3,
   "metadata": {},
   "outputs": [],
   "source": [
    "import pandas as pd\n",
    "\n",
    "df = pd.read_csv('data/enrolment_1.csv')"
   ]
  },
  {
   "cell_type": "code",
   "execution_count": null,
   "metadata": {},
   "outputs": [],
   "source": [
    "condition1 = (df['year'] > 1) & (df['course name'] != 'information technology')\n",
    "condition1.value_counts()"
   ]
  },
  {
   "cell_type": "code",
   "execution_count": null,
   "metadata": {},
   "outputs": [],
   "source": [
    "condition2 = (df['year'] < 4) & (df['course name'] != 'commerce')"
   ]
  },
  {
   "cell_type": "code",
   "execution_count": null,
   "metadata": {},
   "outputs": [],
   "source": [
    "count = df['course name'].value_counts()\n",
    "condition3 = count < 5 "
   ]
  },
  {
   "cell_type": "code",
   "execution_count": null,
   "metadata": {},
   "outputs": [],
   "source": [
    "df['status'] = condition1 or condition2 or condition3\n",
    "df['status'].value_counts()"
   ]
  },
  {
   "cell_type": "code",
   "execution_count": 4,
   "metadata": {},
   "outputs": [
    {
     "data": {
      "text/html": [
       "<div>\n",
       "<style scoped>\n",
       "    .dataframe tbody tr th:only-of-type {\n",
       "        vertical-align: middle;\n",
       "    }\n",
       "\n",
       "    .dataframe tbody tr th {\n",
       "        vertical-align: top;\n",
       "    }\n",
       "\n",
       "    .dataframe thead th {\n",
       "        text-align: right;\n",
       "    }\n",
       "</style>\n",
       "<table border=\"1\" class=\"dataframe\">\n",
       "  <thead>\n",
       "    <tr style=\"text-align: right;\">\n",
       "      <th></th>\n",
       "      <th>id</th>\n",
       "      <th>year</th>\n",
       "      <th>course name</th>\n",
       "    </tr>\n",
       "  </thead>\n",
       "  <tbody>\n",
       "    <tr>\n",
       "      <td>0</td>\n",
       "      <td>2777729</td>\n",
       "      <td>1</td>\n",
       "      <td>science</td>\n",
       "    </tr>\n",
       "    <tr>\n",
       "      <td>1</td>\n",
       "      <td>2777730</td>\n",
       "      <td>2</td>\n",
       "      <td>science</td>\n",
       "    </tr>\n",
       "    <tr>\n",
       "      <td>2</td>\n",
       "      <td>2777765</td>\n",
       "      <td>1</td>\n",
       "      <td>arts</td>\n",
       "    </tr>\n",
       "    <tr>\n",
       "      <td>3</td>\n",
       "      <td>2777766</td>\n",
       "      <td>2</td>\n",
       "      <td>arts</td>\n",
       "    </tr>\n",
       "    <tr>\n",
       "      <td>4</td>\n",
       "      <td>2777785</td>\n",
       "      <td>1</td>\n",
       "      <td>mba</td>\n",
       "    </tr>\n",
       "    <tr>\n",
       "      <td>...</td>\n",
       "      <td>...</td>\n",
       "      <td>...</td>\n",
       "      <td>...</td>\n",
       "    </tr>\n",
       "    <tr>\n",
       "      <td>1995</td>\n",
       "      <td>2796805</td>\n",
       "      <td>3</td>\n",
       "      <td>computer application</td>\n",
       "    </tr>\n",
       "    <tr>\n",
       "      <td>1996</td>\n",
       "      <td>2796812</td>\n",
       "      <td>1</td>\n",
       "      <td>nursing</td>\n",
       "    </tr>\n",
       "    <tr>\n",
       "      <td>1997</td>\n",
       "      <td>2796813</td>\n",
       "      <td>2</td>\n",
       "      <td>nursing</td>\n",
       "    </tr>\n",
       "    <tr>\n",
       "      <td>1998</td>\n",
       "      <td>2796814</td>\n",
       "      <td>3</td>\n",
       "      <td>nursing</td>\n",
       "    </tr>\n",
       "    <tr>\n",
       "      <td>1999</td>\n",
       "      <td>2796815</td>\n",
       "      <td>4</td>\n",
       "      <td>nursing</td>\n",
       "    </tr>\n",
       "  </tbody>\n",
       "</table>\n",
       "<p>2000 rows × 3 columns</p>\n",
       "</div>"
      ],
      "text/plain": [
       "           id  year           course name\n",
       "0     2777729     1               science\n",
       "1     2777730     2               science\n",
       "2     2777765     1                  arts\n",
       "3     2777766     2                  arts\n",
       "4     2777785     1                   mba\n",
       "...       ...   ...                   ...\n",
       "1995  2796805     3  computer application\n",
       "1996  2796812     1               nursing\n",
       "1997  2796813     2               nursing\n",
       "1998  2796814     3               nursing\n",
       "1999  2796815     4               nursing\n",
       "\n",
       "[2000 rows x 3 columns]"
      ]
     },
     "execution_count": 4,
     "metadata": {},
     "output_type": "execute_result"
    }
   ],
   "source": [
    "df"
   ]
  },
  {
   "cell_type": "markdown",
   "metadata": {},
   "source": [
    "# 위의 방법은 틀렸음\n",
    "\n",
    "2,000명의 코드잇 대학교 학생들이 수강신청을 했습니다.\n",
    "\n",
    "수강신청에는 다음 3개의 조건이 있습니다.\n",
    "\n",
    "1. “information technology” 과목은 심화과목이라 1학년은 수강할 수 없습니다.\n",
    "\n",
    "\n",
    "2. “commerce” 과목은 기초과목이고 많은 학생들이 듣는 수업이라 4학년은 수강할 수 없습니다.\n",
    "\n",
    "\n",
    "3. 수강생이 5명이 되지 않으면 강의는 폐강되어 수강할 수 없습니다.\n",
    "\n",
    "\n",
    "기존 DataFrame에 “status”라는 이름의 column을 추가하고, 학생이 수강 가능한 상태이면 “allowed”, 수강 불가능한 상태이면 “not allowed”를 넣어주세요."
   ]
  },
  {
   "cell_type": "markdown",
   "metadata": {},
   "source": [
    "어떤 열을 만들고 싶을 때는, 일단 디폴트 값으로 어떠한 값이라도 넣도록 설정해줘야 한다."
   ]
  },
  {
   "cell_type": "code",
   "execution_count": 10,
   "metadata": {},
   "outputs": [],
   "source": [
    "df['status'] = 'allowed'"
   ]
  },
  {
   "cell_type": "code",
   "execution_count": 11,
   "metadata": {},
   "outputs": [],
   "source": [
    "condition1 = df['course name'] == 'information technology'\n",
    "condition2 = df['year'] == 1\n",
    "df.loc[condition1 & condition2, 'status'] = 'not allowed'"
   ]
  },
  {
   "cell_type": "code",
   "execution_count": 12,
   "metadata": {},
   "outputs": [],
   "source": [
    "condition3 = df['course name'] == 'commerce'\n",
    "condition4 = df['year'] == 4\n",
    "df.loc[condition3 & condition4, 'status'] = 'not allowed'\n"
   ]
  },
  {
   "cell_type": "code",
   "execution_count": 17,
   "metadata": {},
   "outputs": [],
   "source": [
    "allowed = df['status'] == 'allowed'"
   ]
  },
  {
   "cell_type": "code",
   "execution_count": 22,
   "metadata": {},
   "outputs": [],
   "source": [
    "course_counts = df.loc[allowed, 'course name'].value_counts()\n",
    "closed_courses = list(course_counts[course_counts < 5].index)"
   ]
  },
  {
   "cell_type": "code",
   "execution_count": 23,
   "metadata": {
    "scrolled": true
   },
   "outputs": [
    {
     "name": "stdout",
     "output_type": "stream",
     "text": [
      "['information subjects', 'electrical engg', 'refactoring', 'chemical', 'korean', 'computer architecture', 'electrical and electronics engineering', 'database', 'bpt', 'electronics & communication engineering', 'physical education', 'electronics and communication', 'computer engg with specialization in cloud computing.', 'mech', 'fashion communication', 'pathology', 'leather design', 'mechanical engg.', 'agriculture', 'tool & die making', 'data structure', 'electros & communicationnic', 'civil engg', 'environment', 'mechanical related subjects', 'engg. & tech.', 'instrumentation engineering', 'applied sc.', 'electronics and instrumentation', 'software computer science', 'comp(em)', 'diploma', 'saskrit', 'diploma in computer engineering', 'b.com.(gen.e/m)', 'master of computer application', 'deee', 'pol-science', '3 year ll.b course', 'buisiness administration', 'c bc bt', 'bcom marketing', 'bsc bzc', 'bca', 'tax procedure and practice', 'music vocal', 'eep', 'gandhian thought', 'dcp', 'em', 'rasshastra evum bhaisgya kalpana', 'mobile communication', 'co-operation', 'i.t', 'tm', 'admistrator', 'm.i.l', 'electronics & communication engineeering', 'compulsory', 'bbi', 'co', 'res', 'electronics & comm engg', 'microbiology-botany-chemistry', 'sahitya', 'cmmerce', 'english literature', 'jain darshan', 'kayachikitsa', 'professional  accounting', 'applied science & humanities', 'corporate secaratoryship', 'administration services', 'anaesthesiology', 'bcom (general)', 'digital electronics', 'btzc', 'bsc mpe', 'discipline', 'bcom finance and taxation', 'computers', 'travel tourism & hospitality management', 'yes', 'mca 2nd shift', 'electronics & comm. engg.', 'if', 'bsc btmc', 'b.com (p)', 'electronic', 'computer engg', 'all subjects', 'bcom computer', 'science(bzc)', 'b.b.m', 'comp science', 'vocational', 'hons.', 'computers (ug)', 'civit', 'community medicine', 'politics', 'bjmc', 'mat', 'electronics engineering', 'b.com.', 'ai & as', 'medicine', 'mangement', 'tb & chest', 'industrial microbiology', 'b.sc-m.p.c', 'btc 2013', 'automobile engineering', 'information security', 'dance-parangat', 'architecture', 'm.sc chemistry(analytical chemistry)', 'computational mathematics', 'science arts', 'infra structural engineering', 'digital communicati ons', 'mass relation', 'polotical', 'construction technology and management', 'd.el.ed', 'd.ed', '(biotechnology))', 'physical science', 'quality assurance', 'pharmacognosy', 'civil and environmental engineering', 'scientific computing', 'vlsi', 'environmental engg.', 'math chemistry', 'co-education', 'construction technology', 'special education (h.i.)', 'drugs and pharmaceuticals', 'political sc', 'nutrition & dietetics', 'chmistry', 'msc cs', 'data science', 'm.com', 'social science', 'molecular virology', 'thermal power engineering', 'computer appplication', 'bio technology', 'arts/commerce/science/maths', 'b.ed.', 'taalvadya-parichay', 'power systems engineering', 'mba 2nd shift', 'nuclear science & engineering', 'dharmashastra', 'pharmaceutics', 'social work', 'power & energy systems', 'structural engineering', 'computer integrated manufacturing', 'social studies', 'biochemistry', 'mpharmacypa', 'spl. education', 'electronics & communication engg.  with specialization in  vlsi design & embedded systems', 'medical surgical nursing', 'material science and engineering', 'veterinary epidemiology & preventive medicine', 'electro nics and commun ications enginee ring', 'fibre optics and communication', 'vlsi design and signal processing', 'nano science & technology', 'hcl', 'btc-2012', 'transportation engineering', 'git', 'dmrd', 'communication and signal processing', 'english geography', 'international business', 'it cs', 'history & archeology', 'aero dynamics', 'cad/cam', 'lab technology', 'mpharmacy', 'punjabi', 'arthroscopy', 'computer science (lateral entry)', 'statistics', 'library', 'arts/science', 'school of management', 'full time', 'pgdca', 'aih', 'lib. & info sci', 'library and information', 'physical edu.', 'chemstry', 'aqua culture', 'biological sciences', 'environmental science', 'dcl', 'library & information & science', 'humanities and social science (h', 'home sc. food & nutrition', 'pg.diploma', 'b.ed', 'technician', 'sciences', 'jmc']\n"
     ]
    }
   ],
   "source": [
    "print(closed_courses)"
   ]
  },
  {
   "cell_type": "code",
   "execution_count": 24,
   "metadata": {},
   "outputs": [],
   "source": [
    "for course in closed_courses:\n",
    "    df.loc[df['course name'] == course, 'status'] = 'not allowed'"
   ]
  },
  {
   "cell_type": "markdown",
   "metadata": {},
   "source": [
    "### 위의 방법까지를 숙지할 필요성이 있다."
   ]
  },
  {
   "cell_type": "markdown",
   "metadata": {},
   "source": [
    "# 강의실 배정하기"
   ]
  },
  {
   "cell_type": "code",
   "execution_count": 87,
   "metadata": {},
   "outputs": [
    {
     "data": {
      "text/plain": [
       "True     1448\n",
       "False     552\n",
       "Name: status, dtype: int64"
      ]
     },
     "execution_count": 87,
     "metadata": {},
     "output_type": "execute_result"
    }
   ],
   "source": [
    "allowed = df['status'] == 'allowed'\n",
    "allowed.value_counts()"
   ]
  },
  {
   "cell_type": "code",
   "execution_count": 88,
   "metadata": {},
   "outputs": [],
   "source": [
    "course_counts = df.loc[allowed, 'course name'].value_counts()\n",
    "auditorium_list = list(course_counts[course_counts >= 80].index)"
   ]
  },
  {
   "cell_type": "markdown",
   "metadata": {},
   "source": [
    "# 멘탈 나감\n",
    "## 큰 데이터프레임은 오늘 여기까지"
   ]
  }
 ],
 "metadata": {
  "kernelspec": {
   "display_name": "Python 3",
   "language": "python",
   "name": "python3"
  },
  "language_info": {
   "codemirror_mode": {
    "name": "ipython",
    "version": 3
   },
   "file_extension": ".py",
   "mimetype": "text/x-python",
   "name": "python",
   "nbconvert_exporter": "python",
   "pygments_lexer": "ipython3",
   "version": "3.7.4"
  }
 },
 "nbformat": 4,
 "nbformat_minor": 2
}
