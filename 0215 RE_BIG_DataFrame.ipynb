{
 "cells": [
  {
   "cell_type": "markdown",
   "metadata": {},
   "source": [
    "## 01. 큰 DataFrame 살펴보기"
   ]
  },
  {
   "cell_type": "code",
   "execution_count": 2,
   "metadata": {},
   "outputs": [],
   "source": [
    "import pandas as pd"
   ]
  },
  {
   "cell_type": "code",
   "execution_count": 2,
   "metadata": {},
   "outputs": [],
   "source": [
    "laptops_df = pd.read_csv('data/laptops.csv')"
   ]
  },
  {
   "cell_type": "markdown",
   "metadata": {},
   "source": [
    "#### column"
   ]
  },
  {
   "cell_type": "code",
   "execution_count": 7,
   "metadata": {
    "scrolled": true
   },
   "outputs": [
    {
     "data": {
      "text/plain": [
       "Index(['brand', 'model', 'ram', 'hd_type', 'hd_size', 'screen_size', 'price',\n",
       "       'processor_brand', 'processor_model', 'clock_speed',\n",
       "       'graphic_card_brand', 'graphic_card_size', 'os', 'weight', 'comments'],\n",
       "      dtype='object')"
      ]
     },
     "execution_count": 7,
     "metadata": {},
     "output_type": "execute_result"
    }
   ],
   "source": [
    "laptops_df.columns"
   ]
  },
  {
   "cell_type": "code",
   "execution_count": 8,
   "metadata": {},
   "outputs": [
    {
     "name": "stdout",
     "output_type": "stream",
     "text": [
      "<class 'pandas.core.frame.DataFrame'>\n",
      "RangeIndex: 167 entries, 0 to 166\n",
      "Data columns (total 15 columns):\n",
      "brand                 167 non-null object\n",
      "model                 167 non-null object\n",
      "ram                   167 non-null int64\n",
      "hd_type               167 non-null object\n",
      "hd_size               167 non-null int64\n",
      "screen_size           167 non-null float64\n",
      "price                 167 non-null int64\n",
      "processor_brand       167 non-null object\n",
      "processor_model       167 non-null object\n",
      "clock_speed           166 non-null float64\n",
      "graphic_card_brand    163 non-null object\n",
      "graphic_card_size     81 non-null float64\n",
      "os                    167 non-null object\n",
      "weight                160 non-null float64\n",
      "comments              55 non-null object\n",
      "dtypes: float64(4), int64(3), object(8)\n",
      "memory usage: 19.7+ KB\n"
     ]
    }
   ],
   "source": [
    "laptops_df.info()"
   ]
  },
  {
   "cell_type": "markdown",
   "metadata": {},
   "source": [
    "row가 167개 있어야 되는데, 모두 167개가 아닌것 --> 값이 비어 있다."
   ]
  },
  {
   "cell_type": "markdown",
   "metadata": {},
   "source": [
    "#### sort"
   ]
  },
  {
   "cell_type": "code",
   "execution_count": 10,
   "metadata": {
    "scrolled": true
   },
   "outputs": [
    {
     "data": {
      "text/html": [
       "<div>\n",
       "<style scoped>\n",
       "    .dataframe tbody tr th:only-of-type {\n",
       "        vertical-align: middle;\n",
       "    }\n",
       "\n",
       "    .dataframe tbody tr th {\n",
       "        vertical-align: top;\n",
       "    }\n",
       "\n",
       "    .dataframe thead th {\n",
       "        text-align: right;\n",
       "    }\n",
       "</style>\n",
       "<table border=\"1\" class=\"dataframe\">\n",
       "  <thead>\n",
       "    <tr style=\"text-align: right;\">\n",
       "      <th></th>\n",
       "      <th>brand</th>\n",
       "      <th>model</th>\n",
       "      <th>ram</th>\n",
       "      <th>hd_type</th>\n",
       "      <th>hd_size</th>\n",
       "      <th>screen_size</th>\n",
       "      <th>price</th>\n",
       "      <th>processor_brand</th>\n",
       "      <th>processor_model</th>\n",
       "      <th>clock_speed</th>\n",
       "      <th>graphic_card_brand</th>\n",
       "      <th>graphic_card_size</th>\n",
       "      <th>os</th>\n",
       "      <th>weight</th>\n",
       "      <th>comments</th>\n",
       "    </tr>\n",
       "  </thead>\n",
       "  <tbody>\n",
       "    <tr>\n",
       "      <td>148</td>\n",
       "      <td>Acer</td>\n",
       "      <td>Aspire SW3-016</td>\n",
       "      <td>2</td>\n",
       "      <td>ssd</td>\n",
       "      <td>32</td>\n",
       "      <td>10.1</td>\n",
       "      <td>13872</td>\n",
       "      <td>intel</td>\n",
       "      <td>Atom Z8300</td>\n",
       "      <td>1.44</td>\n",
       "      <td>intel</td>\n",
       "      <td>NaN</td>\n",
       "      <td>windows</td>\n",
       "      <td>1.2</td>\n",
       "      <td>NaN</td>\n",
       "    </tr>\n",
       "    <tr>\n",
       "      <td>83</td>\n",
       "      <td>Acer</td>\n",
       "      <td>A315-31CDC UN.GNTSI.001</td>\n",
       "      <td>2</td>\n",
       "      <td>ssd</td>\n",
       "      <td>500</td>\n",
       "      <td>15.6</td>\n",
       "      <td>17990</td>\n",
       "      <td>intel</td>\n",
       "      <td>Celeron</td>\n",
       "      <td>1.10</td>\n",
       "      <td>intel</td>\n",
       "      <td>NaN</td>\n",
       "      <td>windows</td>\n",
       "      <td>2.1</td>\n",
       "      <td>NaN</td>\n",
       "    </tr>\n",
       "    <tr>\n",
       "      <td>108</td>\n",
       "      <td>Acer</td>\n",
       "      <td>Aspire ES-15 NX.GKYSI.010</td>\n",
       "      <td>4</td>\n",
       "      <td>hdd</td>\n",
       "      <td>500</td>\n",
       "      <td>15.6</td>\n",
       "      <td>17990</td>\n",
       "      <td>amd</td>\n",
       "      <td>A4-7210</td>\n",
       "      <td>1.80</td>\n",
       "      <td>amd</td>\n",
       "      <td>NaN</td>\n",
       "      <td>windows</td>\n",
       "      <td>2.4</td>\n",
       "      <td>NaN</td>\n",
       "    </tr>\n",
       "    <tr>\n",
       "      <td>100</td>\n",
       "      <td>Acer</td>\n",
       "      <td>A315-31-P4CRUN.GNTSI.002</td>\n",
       "      <td>4</td>\n",
       "      <td>hdd</td>\n",
       "      <td>500</td>\n",
       "      <td>15.6</td>\n",
       "      <td>18990</td>\n",
       "      <td>intel</td>\n",
       "      <td>pentium</td>\n",
       "      <td>1.10</td>\n",
       "      <td>intel</td>\n",
       "      <td>NaN</td>\n",
       "      <td>windows</td>\n",
       "      <td>NaN</td>\n",
       "      <td>NaN</td>\n",
       "    </tr>\n",
       "    <tr>\n",
       "      <td>73</td>\n",
       "      <td>Acer</td>\n",
       "      <td>Aspire ES1-523</td>\n",
       "      <td>4</td>\n",
       "      <td>hdd</td>\n",
       "      <td>1024</td>\n",
       "      <td>15.6</td>\n",
       "      <td>19465</td>\n",
       "      <td>amd</td>\n",
       "      <td>A4-7210</td>\n",
       "      <td>1.80</td>\n",
       "      <td>amd</td>\n",
       "      <td>NaN</td>\n",
       "      <td>linux</td>\n",
       "      <td>2.4</td>\n",
       "      <td>NaN</td>\n",
       "    </tr>\n",
       "    <tr>\n",
       "      <td>...</td>\n",
       "      <td>...</td>\n",
       "      <td>...</td>\n",
       "      <td>...</td>\n",
       "      <td>...</td>\n",
       "      <td>...</td>\n",
       "      <td>...</td>\n",
       "      <td>...</td>\n",
       "      <td>...</td>\n",
       "      <td>...</td>\n",
       "      <td>...</td>\n",
       "      <td>...</td>\n",
       "      <td>...</td>\n",
       "      <td>...</td>\n",
       "      <td>...</td>\n",
       "      <td>...</td>\n",
       "    </tr>\n",
       "    <tr>\n",
       "      <td>154</td>\n",
       "      <td>Microsoft</td>\n",
       "      <td>Surface Book CR9-00013</td>\n",
       "      <td>8</td>\n",
       "      <td>ssd</td>\n",
       "      <td>128</td>\n",
       "      <td>13.5</td>\n",
       "      <td>178799</td>\n",
       "      <td>intel</td>\n",
       "      <td>i5</td>\n",
       "      <td>1.80</td>\n",
       "      <td>intel</td>\n",
       "      <td>NaN</td>\n",
       "      <td>windows</td>\n",
       "      <td>1.5</td>\n",
       "      <td>NaN</td>\n",
       "    </tr>\n",
       "    <tr>\n",
       "      <td>31</td>\n",
       "      <td>Acer</td>\n",
       "      <td>Predator 17</td>\n",
       "      <td>16</td>\n",
       "      <td>ssd</td>\n",
       "      <td>256</td>\n",
       "      <td>17.3</td>\n",
       "      <td>178912</td>\n",
       "      <td>intel</td>\n",
       "      <td>i7</td>\n",
       "      <td>2.60</td>\n",
       "      <td>nvidia</td>\n",
       "      <td>NaN</td>\n",
       "      <td>windows</td>\n",
       "      <td>4.2</td>\n",
       "      <td>Integrated Graphics</td>\n",
       "    </tr>\n",
       "    <tr>\n",
       "      <td>96</td>\n",
       "      <td>Alienware</td>\n",
       "      <td>AW13R3-7000SLV-PUS</td>\n",
       "      <td>8</td>\n",
       "      <td>ssd</td>\n",
       "      <td>256</td>\n",
       "      <td>13.3</td>\n",
       "      <td>190256</td>\n",
       "      <td>intel</td>\n",
       "      <td>i7</td>\n",
       "      <td>3.00</td>\n",
       "      <td>nvidia</td>\n",
       "      <td>6.0</td>\n",
       "      <td>windows</td>\n",
       "      <td>2.6</td>\n",
       "      <td>13.3 inch FHD (1920 x 1080) IPS Anti-Glare 300...</td>\n",
       "    </tr>\n",
       "    <tr>\n",
       "      <td>90</td>\n",
       "      <td>Alienware</td>\n",
       "      <td>15 Notebook</td>\n",
       "      <td>16</td>\n",
       "      <td>hdd</td>\n",
       "      <td>1024</td>\n",
       "      <td>15.6</td>\n",
       "      <td>199000</td>\n",
       "      <td>intel</td>\n",
       "      <td>i7</td>\n",
       "      <td>2.60</td>\n",
       "      <td>nvidia</td>\n",
       "      <td>8.0</td>\n",
       "      <td>windows</td>\n",
       "      <td>3.5</td>\n",
       "      <td>Maximum Display Resolution : 1920 x 1080 pixel</td>\n",
       "    </tr>\n",
       "    <tr>\n",
       "      <td>5</td>\n",
       "      <td>Apple</td>\n",
       "      <td>MacBook Pro (TouchBar)</td>\n",
       "      <td>16</td>\n",
       "      <td>ssd</td>\n",
       "      <td>512</td>\n",
       "      <td>15.0</td>\n",
       "      <td>226000</td>\n",
       "      <td>intel</td>\n",
       "      <td>i7</td>\n",
       "      <td>2.70</td>\n",
       "      <td>intel</td>\n",
       "      <td>2.0</td>\n",
       "      <td>mac</td>\n",
       "      <td>2.5</td>\n",
       "      <td>NaN</td>\n",
       "    </tr>\n",
       "  </tbody>\n",
       "</table>\n",
       "<p>167 rows × 15 columns</p>\n",
       "</div>"
      ],
      "text/plain": [
       "         brand                       model  ram hd_type  hd_size  screen_size  \\\n",
       "148       Acer             Aspire SW3-016     2     ssd       32         10.1   \n",
       "83        Acer     A315-31CDC UN.GNTSI.001    2     ssd      500         15.6   \n",
       "108       Acer  Aspire ES-15 NX.GKYSI.010     4     hdd      500         15.6   \n",
       "100       Acer    A315-31-P4CRUN.GNTSI.002    4     hdd      500         15.6   \n",
       "73        Acer             Aspire ES1-523     4     hdd     1024         15.6   \n",
       "..         ...                         ...  ...     ...      ...          ...   \n",
       "154  Microsoft      Surface Book CR9-00013    8     ssd      128         13.5   \n",
       "31        Acer                 Predator 17   16     ssd      256         17.3   \n",
       "96   Alienware          AW13R3-7000SLV-PUS    8     ssd      256         13.3   \n",
       "90   Alienware                 15 Notebook   16     hdd     1024         15.6   \n",
       "5        Apple      MacBook Pro (TouchBar)   16     ssd      512         15.0   \n",
       "\n",
       "      price processor_brand processor_model  clock_speed graphic_card_brand  \\\n",
       "148   13872           intel      Atom Z8300         1.44              intel   \n",
       "83    17990           intel         Celeron         1.10              intel   \n",
       "108   17990             amd         A4-7210         1.80                amd   \n",
       "100   18990           intel         pentium         1.10              intel   \n",
       "73    19465             amd         A4-7210         1.80                amd   \n",
       "..      ...             ...             ...          ...                ...   \n",
       "154  178799           intel              i5         1.80              intel   \n",
       "31   178912           intel              i7         2.60             nvidia   \n",
       "96   190256           intel              i7         3.00             nvidia   \n",
       "90   199000           intel              i7         2.60             nvidia   \n",
       "5    226000           intel              i7         2.70              intel   \n",
       "\n",
       "     graphic_card_size       os  weight  \\\n",
       "148                NaN  windows     1.2   \n",
       "83                 NaN  windows     2.1   \n",
       "108                NaN  windows     2.4   \n",
       "100                NaN  windows     NaN   \n",
       "73                 NaN    linux     2.4   \n",
       "..                 ...      ...     ...   \n",
       "154                NaN  windows     1.5   \n",
       "31                 NaN  windows     4.2   \n",
       "96                 6.0  windows     2.6   \n",
       "90                 8.0  windows     3.5   \n",
       "5                  2.0      mac     2.5   \n",
       "\n",
       "                                              comments  \n",
       "148                                                NaN  \n",
       "83                                                 NaN  \n",
       "108                                                NaN  \n",
       "100                                                NaN  \n",
       "73                                                 NaN  \n",
       "..                                                 ...  \n",
       "154                                                NaN  \n",
       "31                                 Integrated Graphics  \n",
       "96   13.3 inch FHD (1920 x 1080) IPS Anti-Glare 300...  \n",
       "90      Maximum Display Resolution : 1920 x 1080 pixel  \n",
       "5                                                  NaN  \n",
       "\n",
       "[167 rows x 15 columns]"
      ]
     },
     "execution_count": 10,
     "metadata": {},
     "output_type": "execute_result"
    }
   ],
   "source": [
    "laptops_df.sort_values(by='price')\n",
    "# 내림차순 하고 싶으면 ascending=False\n",
    "# 새로운 데이터프레임이 아닌 기존에 적용 inplace=True"
   ]
  },
  {
   "cell_type": "markdown",
   "metadata": {},
   "source": [
    "## 큰 Series 살펴보기"
   ]
  },
  {
   "cell_type": "code",
   "execution_count": 11,
   "metadata": {},
   "outputs": [
    {
     "data": {
      "text/plain": [
       "0       Dell\n",
       "1      Apple\n",
       "2      Apple\n",
       "3      Apple\n",
       "4      Apple\n",
       "       ...  \n",
       "162     Asus\n",
       "163     Asus\n",
       "164     Asus\n",
       "165     Asus\n",
       "166     Asus\n",
       "Name: brand, Length: 167, dtype: object"
      ]
     },
     "execution_count": 11,
     "metadata": {},
     "output_type": "execute_result"
    }
   ],
   "source": [
    "laptops_df['brand'] # series"
   ]
  },
  {
   "cell_type": "markdown",
   "metadata": {},
   "source": [
    "- 겹치는 값들을 제외하고 보고 싶다면?\n",
    "- 브랜드별로 몇개씩 보고 싶은지 보고싶다면?\n",
    "- 브랜드 **시리즈**에 대한 기술적 정보 보고싶다면? **명목형**이어도 가능 !"
   ]
  },
  {
   "cell_type": "code",
   "execution_count": 12,
   "metadata": {
    "scrolled": true
   },
   "outputs": [
    {
     "data": {
      "text/plain": [
       "count     167\n",
       "unique      8\n",
       "top        HP\n",
       "freq       55\n",
       "Name: brand, dtype: object"
      ]
     },
     "execution_count": 12,
     "metadata": {},
     "output_type": "execute_result"
    }
   ],
   "source": [
    "laptops_df['brand'].describe()"
   ]
  },
  {
   "cell_type": "markdown",
   "metadata": {},
   "source": [
    "## 03. 여행지 선정하기1"
   ]
  },
  {
   "cell_type": "code",
   "execution_count": 3,
   "metadata": {},
   "outputs": [],
   "source": [
    "df = pd.read_csv('data/world_cities.csv', index_col=0)"
   ]
  },
  {
   "cell_type": "code",
   "execution_count": 59,
   "metadata": {},
   "outputs": [
    {
     "data": {
      "text/html": [
       "<div>\n",
       "<style scoped>\n",
       "    .dataframe tbody tr th:only-of-type {\n",
       "        vertical-align: middle;\n",
       "    }\n",
       "\n",
       "    .dataframe tbody tr th {\n",
       "        vertical-align: top;\n",
       "    }\n",
       "\n",
       "    .dataframe thead th {\n",
       "        text-align: right;\n",
       "    }\n",
       "</style>\n",
       "<table border=\"1\" class=\"dataframe\">\n",
       "  <thead>\n",
       "    <tr style=\"text-align: right;\">\n",
       "      <th></th>\n",
       "      <th>City / Urban area</th>\n",
       "      <th>Country</th>\n",
       "      <th>Population</th>\n",
       "      <th>Land area (in sqKm)</th>\n",
       "    </tr>\n",
       "  </thead>\n",
       "  <tbody>\n",
       "    <tr>\n",
       "      <td>0</td>\n",
       "      <td>Buenos Aires</td>\n",
       "      <td>Argentina</td>\n",
       "      <td>11200000</td>\n",
       "      <td>2266</td>\n",
       "    </tr>\n",
       "    <tr>\n",
       "      <td>1</td>\n",
       "      <td>Melbourne</td>\n",
       "      <td>Australia</td>\n",
       "      <td>3162000</td>\n",
       "      <td>2080</td>\n",
       "    </tr>\n",
       "    <tr>\n",
       "      <td>2</td>\n",
       "      <td>Sydney</td>\n",
       "      <td>Australia</td>\n",
       "      <td>3502000</td>\n",
       "      <td>1687</td>\n",
       "    </tr>\n",
       "    <tr>\n",
       "      <td>3</td>\n",
       "      <td>Brisbane</td>\n",
       "      <td>Australia</td>\n",
       "      <td>1508000</td>\n",
       "      <td>1603</td>\n",
       "    </tr>\n",
       "    <tr>\n",
       "      <td>4</td>\n",
       "      <td>Perth</td>\n",
       "      <td>Australia</td>\n",
       "      <td>1177000</td>\n",
       "      <td>964</td>\n",
       "    </tr>\n",
       "  </tbody>\n",
       "</table>\n",
       "</div>"
      ],
      "text/plain": [
       "  City / Urban area    Country  Population  Land area (in sqKm)\n",
       "0      Buenos Aires  Argentina    11200000                 2266\n",
       "1         Melbourne  Australia     3162000                 2080\n",
       "2            Sydney  Australia     3502000                 1687\n",
       "3          Brisbane  Australia     1508000                 1603\n",
       "4             Perth  Australia     1177000                  964"
      ]
     },
     "execution_count": 59,
     "metadata": {},
     "output_type": "execute_result"
    }
   ],
   "source": [
    "df.head()"
   ]
  },
  {
   "cell_type": "code",
   "execution_count": 90,
   "metadata": {},
   "outputs": [],
   "source": [
    "val_count = df['Country'].value_counts()"
   ]
  },
  {
   "cell_type": "code",
   "execution_count": 96,
   "metadata": {
    "scrolled": true
   },
   "outputs": [
    {
     "data": {
      "text/plain": [
       "count     249\n",
       "unique     61\n",
       "top       USA\n",
       "freq      105\n",
       "Name: Country, dtype: object"
      ]
     },
     "execution_count": 96,
     "metadata": {},
     "output_type": "execute_result"
    }
   ],
   "source": [
    "df['Country'].describe()"
   ]
  },
  {
   "cell_type": "code",
   "execution_count": 95,
   "metadata": {},
   "outputs": [
    {
     "data": {
      "text/plain": [
       "USA            105\n",
       "France          15\n",
       "Brazil          10\n",
       "Canada           9\n",
       "Germany          8\n",
       "              ... \n",
       "Sweden           1\n",
       "Egypt            1\n",
       "Netherlands      1\n",
       "Singapore        1\n",
       "Colombia         1\n",
       "Name: Country, Length: 61, dtype: int64"
      ]
     },
     "execution_count": 95,
     "metadata": {},
     "output_type": "execute_result"
    }
   ],
   "source": [
    "val_count"
   ]
  },
  {
   "cell_type": "markdown",
   "metadata": {},
   "source": [
    "1. 총 몇개의 도시와 몇 개의 나라가 있는지?\n",
    "2. 인구밀도(명/sqKm)가 10000이 넘는 도시?\n",
    "3. **인구 밀도가 가장 높은 도시?**\n",
    "4. 4개의 도시만 있는 나라(진행중)"
   ]
  },
  {
   "cell_type": "code",
   "execution_count": 97,
   "metadata": {},
   "outputs": [
    {
     "data": {
      "text/html": [
       "<div>\n",
       "<style scoped>\n",
       "    .dataframe tbody tr th:only-of-type {\n",
       "        vertical-align: middle;\n",
       "    }\n",
       "\n",
       "    .dataframe tbody tr th {\n",
       "        vertical-align: top;\n",
       "    }\n",
       "\n",
       "    .dataframe thead th {\n",
       "        text-align: right;\n",
       "    }\n",
       "</style>\n",
       "<table border=\"1\" class=\"dataframe\">\n",
       "  <thead>\n",
       "    <tr style=\"text-align: right;\">\n",
       "      <th></th>\n",
       "      <th>City / Urban area</th>\n",
       "      <th>Country</th>\n",
       "      <th>Population</th>\n",
       "      <th>Land area (in sqKm)</th>\n",
       "    </tr>\n",
       "  </thead>\n",
       "  <tbody>\n",
       "    <tr>\n",
       "      <td>0</td>\n",
       "      <td>Buenos Aires</td>\n",
       "      <td>Argentina</td>\n",
       "      <td>11200000</td>\n",
       "      <td>2266</td>\n",
       "    </tr>\n",
       "    <tr>\n",
       "      <td>1</td>\n",
       "      <td>Melbourne</td>\n",
       "      <td>Australia</td>\n",
       "      <td>3162000</td>\n",
       "      <td>2080</td>\n",
       "    </tr>\n",
       "    <tr>\n",
       "      <td>2</td>\n",
       "      <td>Sydney</td>\n",
       "      <td>Australia</td>\n",
       "      <td>3502000</td>\n",
       "      <td>1687</td>\n",
       "    </tr>\n",
       "    <tr>\n",
       "      <td>3</td>\n",
       "      <td>Brisbane</td>\n",
       "      <td>Australia</td>\n",
       "      <td>1508000</td>\n",
       "      <td>1603</td>\n",
       "    </tr>\n",
       "    <tr>\n",
       "      <td>4</td>\n",
       "      <td>Perth</td>\n",
       "      <td>Australia</td>\n",
       "      <td>1177000</td>\n",
       "      <td>964</td>\n",
       "    </tr>\n",
       "  </tbody>\n",
       "</table>\n",
       "</div>"
      ],
      "text/plain": [
       "  City / Urban area    Country  Population  Land area (in sqKm)\n",
       "0      Buenos Aires  Argentina    11200000                 2266\n",
       "1         Melbourne  Australia     3162000                 2080\n",
       "2            Sydney  Australia     3502000                 1687\n",
       "3          Brisbane  Australia     1508000                 1603\n",
       "4             Perth  Australia     1177000                  964"
      ]
     },
     "execution_count": 97,
     "metadata": {},
     "output_type": "execute_result"
    }
   ],
   "source": [
    "df.head()"
   ]
  },
  {
   "cell_type": "code",
   "execution_count": 104,
   "metadata": {},
   "outputs": [
    {
     "data": {
      "text/plain": [
       "pandas.core.series.Series"
      ]
     },
     "execution_count": 104,
     "metadata": {},
     "output_type": "execute_result"
    }
   ],
   "source": [
    "country = df['Country'].value_counts()\n",
    "type(country)"
   ]
  },
  {
   "cell_type": "code",
   "execution_count": 105,
   "metadata": {
    "scrolled": true
   },
   "outputs": [
    {
     "data": {
      "text/plain": [
       "Italy    4\n",
       "Name: Country, dtype: int64"
      ]
     },
     "execution_count": 105,
     "metadata": {},
     "output_type": "execute_result"
    }
   ],
   "source": [
    "country[country==4]"
   ]
  },
  {
   "cell_type": "markdown",
   "metadata": {},
   "source": [
    "## 실습과제\n",
    "2,000명의 코드잇 대학교 학생들이 수강신청을 했습니다.\n",
    "\n",
    "\n",
    "수강신청에는 다음 3개의 조건이 있습니다.\n",
    "\n",
    "\n",
    "1. “information technology” 과목은 심화과목이라 1학년은 수강할 수 없습니다.\n",
    "2. “commerce” 과목은 기초과목이고 많은 학생들이 듣는 수업이라 4학년은 수강할 수 없습니다.\n",
    "3. 수강생이 5명이 되지 않으면 강의는 폐강되어 수강할 수 없습니다.\n",
    "\n",
    "기존 DataFrame에 “status”라는 이름의 column을 추가하고, 학생이 수강 가능한 상태이면 “allowed”, 수강 불가능한 상태이면 “not allowed”를 넣어주세요.\n",
    "\n",
    "3번 시리즈에서 불린값을 찾아서 해당 인덱스를 리스트에 넣고 for을 통해 해결"
   ]
  },
  {
   "cell_type": "code",
   "execution_count": 123,
   "metadata": {},
   "outputs": [],
   "source": [
    "df = pd.read_csv('data/enrolment_1.csv')"
   ]
  },
  {
   "cell_type": "code",
   "execution_count": 124,
   "metadata": {},
   "outputs": [],
   "source": [
    "df['status'] = 'allowed'"
   ]
  },
  {
   "cell_type": "code",
   "execution_count": 125,
   "metadata": {},
   "outputs": [],
   "source": [
    "df.loc[(df['course name'] == 'information technology') & (df['year'] == 1),'status'] = 'not allowed'"
   ]
  },
  {
   "cell_type": "code",
   "execution_count": 126,
   "metadata": {},
   "outputs": [],
   "source": [
    "df.loc[(df['course name'] == 'commerce') & (df['year'] == 4), 'status'] = 'not allowed'"
   ]
  },
  {
   "cell_type": "code",
   "execution_count": 127,
   "metadata": {},
   "outputs": [
    {
     "data": {
      "text/plain": [
       "arts                         158\n",
       "science                      124\n",
       "commerce                     101\n",
       "english                       56\n",
       "education                     41\n",
       "                            ... \n",
       "environmental science          1\n",
       "b.ed                           1\n",
       "library                        1\n",
       "school of management           1\n",
       "home sc. food & nutrition      1\n",
       "Name: course name, Length: 296, dtype: int64"
      ]
     },
     "execution_count": 127,
     "metadata": {},
     "output_type": "execute_result"
    }
   ],
   "source": [
    "allowed = df['status']=='allowed'\n",
    "course_counts = df.loc[allowed, 'course name'].value_counts()\n",
    "course_counts"
   ]
  },
  {
   "cell_type": "code",
   "execution_count": 128,
   "metadata": {},
   "outputs": [],
   "source": [
    "closed_courses = list(course_counts[course_counts < 5])\n",
    "# 인덱싱을 안하면 해당 결과값만 나온다.(1,2,3,4,5)\n",
    "# 인덱싱은 여기서 왼쪽의 과목 이름이 나타날 것."
   ]
  },
  {
   "cell_type": "code",
   "execution_count": 129,
   "metadata": {},
   "outputs": [
    {
     "data": {
      "text/plain": [
       "['chemical',\n",
       " 'refactoring',\n",
       " 'fashion communication',\n",
       " 'computer engg with specialization in cloud computing.',\n",
       " 'tool & die making',\n",
       " 'environment',\n",
       " 'database',\n",
       " 'information subjects',\n",
       " 'pathology',\n",
       " 'electrical engg',\n",
       " 'engg. & tech.',\n",
       " 'computer architecture',\n",
       " 'electronics and instrumentation',\n",
       " 'korean',\n",
       " 'agriculture',\n",
       " 'mechanical engg.',\n",
       " 'instrumentation engineering',\n",
       " 'physical education',\n",
       " 'leather design',\n",
       " 'mechanical related subjects',\n",
       " 'electrical and electronics engineering',\n",
       " 'electros & communicationnic',\n",
       " 'electronics & communication engineering',\n",
       " 'applied sc.',\n",
       " 'data structure',\n",
       " 'civil engg',\n",
       " 'electronics and communication',\n",
       " 'bpt',\n",
       " 'mech',\n",
       " 'em',\n",
       " 'b.com.',\n",
       " 'politics',\n",
       " 'science(bzc)',\n",
       " 'vocational',\n",
       " 'm.i.l',\n",
       " 'tax procedure and practice',\n",
       " 'yes',\n",
       " 'software computer science',\n",
       " 'electronics & comm engg',\n",
       " 'deee',\n",
       " 'master of computer application',\n",
       " 'pol-science',\n",
       " 'bsc mpe',\n",
       " 'civit',\n",
       " 'electronics & comm. engg.',\n",
       " 'administration services',\n",
       " 'bca',\n",
       " 'dcp',\n",
       " 'professional  accounting',\n",
       " 'sahitya',\n",
       " 'electronics engineering',\n",
       " 'bbi',\n",
       " 'mat',\n",
       " 'cmmerce',\n",
       " 'b.sc-m.p.c',\n",
       " 'diploma in computer engineering',\n",
       " 'mca 2nd shift',\n",
       " 'ai & as',\n",
       " 'english literature',\n",
       " '3 year ll.b course',\n",
       " 'b.b.m',\n",
       " 'bcom computer',\n",
       " 'btzc',\n",
       " 'computers',\n",
       " 'bcom finance and taxation',\n",
       " 'computer engg',\n",
       " 'kayachikitsa',\n",
       " 'i.t',\n",
       " 'gandhian thought',\n",
       " 'buisiness administration',\n",
       " 'co',\n",
       " 'music vocal',\n",
       " 'bsc bzc',\n",
       " 'community medicine',\n",
       " 'res',\n",
       " 'all subjects',\n",
       " 'c bc bt',\n",
       " 'b.com (p)',\n",
       " 'if',\n",
       " 'electronic',\n",
       " 'mangement',\n",
       " 'bcom (general)',\n",
       " 'applied science & humanities',\n",
       " 'discipline',\n",
       " 'tb & chest',\n",
       " 'corporate secaratoryship',\n",
       " 'co-operation',\n",
       " 'jain darshan',\n",
       " 'bjmc',\n",
       " 'mobile communication',\n",
       " 'eep',\n",
       " 'saskrit',\n",
       " 'electronics & communication engineeering',\n",
       " 'compulsory',\n",
       " 'medicine',\n",
       " 'b.com.(gen.e/m)',\n",
       " 'rasshastra evum bhaisgya kalpana',\n",
       " 'tm',\n",
       " 'computers (ug)',\n",
       " 'industrial microbiology',\n",
       " 'admistrator',\n",
       " 'microbiology-botany-chemistry',\n",
       " 'bcom marketing',\n",
       " 'hons.',\n",
       " 'anaesthesiology',\n",
       " 'digital electronics',\n",
       " 'travel tourism & hospitality management',\n",
       " 'diploma',\n",
       " 'comp(em)',\n",
       " 'comp science',\n",
       " 'bsc btmc',\n",
       " 'social science',\n",
       " 'dmrd',\n",
       " 'thermal power engineering',\n",
       " 'b.ed.',\n",
       " 'mass relation',\n",
       " 'physical science',\n",
       " 'm.sc chemistry(analytical chemistry)',\n",
       " 'vlsi design and signal processing',\n",
       " 'special education (h.i.)',\n",
       " 'construction technology and management',\n",
       " 'english geography',\n",
       " 'aero dynamics',\n",
       " 'electronics & communication engg.  with specialization in  vlsi design & embedded systems',\n",
       " 'spl. education',\n",
       " 'math chemistry',\n",
       " 'social work',\n",
       " 'science arts',\n",
       " 'social studies',\n",
       " 'veterinary epidemiology & preventive medicine',\n",
       " 'political sc',\n",
       " 'hcl',\n",
       " 'electro nics and commun ications enginee ring',\n",
       " 'computer appplication',\n",
       " 'material science and engineering',\n",
       " 'quality assurance',\n",
       " 'bio technology',\n",
       " 'nano science & technology',\n",
       " 'civil and environmental engineering',\n",
       " 'mpharmacy',\n",
       " 'infra structural engineering',\n",
       " 'chmistry',\n",
       " 'power & energy systems',\n",
       " 'molecular virology',\n",
       " 'medical surgical nursing',\n",
       " 'information security',\n",
       " 'transportation engineering',\n",
       " 'dharmashastra',\n",
       " 'environmental engg.',\n",
       " 'power systems engineering',\n",
       " 'msc cs',\n",
       " 'lab technology',\n",
       " 'd.el.ed',\n",
       " '(biotechnology))',\n",
       " 'automobile engineering',\n",
       " 'construction technology',\n",
       " 'm.com',\n",
       " 'vlsi',\n",
       " 'git',\n",
       " 'd.ed',\n",
       " 'pharmaceutics',\n",
       " 'architecture',\n",
       " 'biochemistry',\n",
       " 'co-education',\n",
       " 'computational mathematics',\n",
       " 'btc 2013',\n",
       " 'drugs and pharmaceuticals',\n",
       " 'fibre optics and communication',\n",
       " 'it cs',\n",
       " 'arts/commerce/science/maths',\n",
       " 'digital communicati ons',\n",
       " 'taalvadya-parichay',\n",
       " 'structural engineering',\n",
       " 'history & archeology',\n",
       " 'nutrition & dietetics',\n",
       " 'polotical',\n",
       " 'data science',\n",
       " 'dance-parangat',\n",
       " 'mpharmacypa',\n",
       " 'communication and signal processing',\n",
       " 'computer integrated manufacturing',\n",
       " 'cad/cam',\n",
       " 'pharmacognosy',\n",
       " 'nuclear science & engineering',\n",
       " 'btc-2012',\n",
       " 'mba 2nd shift',\n",
       " 'scientific computing',\n",
       " 'international business',\n",
       " 'library and information',\n",
       " 'aqua culture',\n",
       " 'library & information & science',\n",
       " 'jmc',\n",
       " 'technician',\n",
       " 'full time',\n",
       " 'statistics',\n",
       " 'chemstry',\n",
       " 'lib. & info sci',\n",
       " 'arts/science',\n",
       " 'pg.diploma',\n",
       " 'aih',\n",
       " 'dcl',\n",
       " 'computer science (lateral entry)',\n",
       " 'sciences',\n",
       " 'pgdca',\n",
       " 'humanities and social science (h',\n",
       " 'physical edu.',\n",
       " 'biological sciences',\n",
       " 'arthroscopy',\n",
       " 'punjabi',\n",
       " 'environmental science',\n",
       " 'b.ed',\n",
       " 'library',\n",
       " 'school of management',\n",
       " 'home sc. food & nutrition']"
      ]
     },
     "execution_count": 129,
     "metadata": {},
     "output_type": "execute_result"
    }
   ],
   "source": [
    "closed_courses = list(course_counts[course_counts < 5].index)\n",
    "closed_courses"
   ]
  },
  {
   "cell_type": "code",
   "execution_count": 130,
   "metadata": {},
   "outputs": [],
   "source": [
    "for course in closed_courses:\n",
    "    df.loc[df['course name'] == course, 'status'] = 'not allowed'"
   ]
  },
  {
   "cell_type": "code",
   "execution_count": 131,
   "metadata": {},
   "outputs": [
    {
     "data": {
      "text/plain": [
       "allowed        1448\n",
       "not allowed     552\n",
       "Name: status, dtype: int64"
      ]
     },
     "execution_count": 131,
     "metadata": {},
     "output_type": "execute_result"
    }
   ],
   "source": [
    "df['status'].value_counts()"
   ]
  }
 ],
 "metadata": {
  "kernelspec": {
   "display_name": "Python 3.7.4 64-bit ('base': conda)",
   "language": "python",
   "name": "python37464bitbaseconda93698c85a6fd4c0c9a379e0ad6757577"
  },
  "language_info": {
   "codemirror_mode": {
    "name": "ipython",
    "version": 3
   },
   "file_extension": ".py",
   "mimetype": "text/x-python",
   "name": "python",
   "nbconvert_exporter": "python",
   "pygments_lexer": "ipython3",
   "version": "3.7.4"
  }
 },
 "nbformat": 4,
 "nbformat_minor": 2
}
