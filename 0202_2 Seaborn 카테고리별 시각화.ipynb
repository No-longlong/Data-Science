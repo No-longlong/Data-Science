{
 "cells": [
  {
   "cell_type": "code",
   "execution_count": 1,
   "metadata": {},
   "outputs": [],
   "source": [
    "import pandas as pd\n",
    "import seaborn as sns"
   ]
  },
  {
   "cell_type": "code",
   "execution_count": 2,
   "metadata": {
    "scrolled": true
   },
   "outputs": [
    {
     "data": {
      "text/html": [
       "<div>\n",
       "<style scoped>\n",
       "    .dataframe tbody tr th:only-of-type {\n",
       "        vertical-align: middle;\n",
       "    }\n",
       "\n",
       "    .dataframe tbody tr th {\n",
       "        vertical-align: top;\n",
       "    }\n",
       "\n",
       "    .dataframe thead th {\n",
       "        text-align: right;\n",
       "    }\n",
       "</style>\n",
       "<table border=\"1\" class=\"dataframe\">\n",
       "  <thead>\n",
       "    <tr style=\"text-align: right;\">\n",
       "      <th></th>\n",
       "      <th>brand</th>\n",
       "      <th>model</th>\n",
       "      <th>ram</th>\n",
       "      <th>hd_type</th>\n",
       "      <th>hd_size</th>\n",
       "      <th>screen_size</th>\n",
       "      <th>price</th>\n",
       "      <th>processor_brand</th>\n",
       "      <th>processor_model</th>\n",
       "      <th>clock_speed</th>\n",
       "      <th>graphic_card_brand</th>\n",
       "      <th>graphic_card_size</th>\n",
       "      <th>os</th>\n",
       "      <th>weight</th>\n",
       "      <th>comments</th>\n",
       "    </tr>\n",
       "  </thead>\n",
       "  <tbody>\n",
       "    <tr>\n",
       "      <td>0</td>\n",
       "      <td>Dell</td>\n",
       "      <td>Inspiron 15-3567</td>\n",
       "      <td>4</td>\n",
       "      <td>hdd</td>\n",
       "      <td>1024</td>\n",
       "      <td>15.6</td>\n",
       "      <td>40000</td>\n",
       "      <td>intel</td>\n",
       "      <td>i5</td>\n",
       "      <td>2.5</td>\n",
       "      <td>intel</td>\n",
       "      <td>NaN</td>\n",
       "      <td>linux</td>\n",
       "      <td>2.50</td>\n",
       "      <td>NaN</td>\n",
       "    </tr>\n",
       "    <tr>\n",
       "      <td>1</td>\n",
       "      <td>Apple</td>\n",
       "      <td>MacBook Air</td>\n",
       "      <td>8</td>\n",
       "      <td>ssd</td>\n",
       "      <td>128</td>\n",
       "      <td>13.3</td>\n",
       "      <td>55499</td>\n",
       "      <td>intel</td>\n",
       "      <td>i5</td>\n",
       "      <td>1.8</td>\n",
       "      <td>intel</td>\n",
       "      <td>2.0</td>\n",
       "      <td>mac</td>\n",
       "      <td>1.35</td>\n",
       "      <td>NaN</td>\n",
       "    </tr>\n",
       "    <tr>\n",
       "      <td>2</td>\n",
       "      <td>Apple</td>\n",
       "      <td>MacBook Air</td>\n",
       "      <td>8</td>\n",
       "      <td>ssd</td>\n",
       "      <td>256</td>\n",
       "      <td>13.3</td>\n",
       "      <td>71500</td>\n",
       "      <td>intel</td>\n",
       "      <td>i5</td>\n",
       "      <td>1.8</td>\n",
       "      <td>intel</td>\n",
       "      <td>2.0</td>\n",
       "      <td>mac</td>\n",
       "      <td>1.35</td>\n",
       "      <td>NaN</td>\n",
       "    </tr>\n",
       "    <tr>\n",
       "      <td>3</td>\n",
       "      <td>Apple</td>\n",
       "      <td>MacBook Pro</td>\n",
       "      <td>8</td>\n",
       "      <td>ssd</td>\n",
       "      <td>128</td>\n",
       "      <td>13.3</td>\n",
       "      <td>96890</td>\n",
       "      <td>intel</td>\n",
       "      <td>i5</td>\n",
       "      <td>2.3</td>\n",
       "      <td>intel</td>\n",
       "      <td>2.0</td>\n",
       "      <td>mac</td>\n",
       "      <td>3.02</td>\n",
       "      <td>NaN</td>\n",
       "    </tr>\n",
       "    <tr>\n",
       "      <td>4</td>\n",
       "      <td>Apple</td>\n",
       "      <td>MacBook Pro</td>\n",
       "      <td>8</td>\n",
       "      <td>ssd</td>\n",
       "      <td>256</td>\n",
       "      <td>13.3</td>\n",
       "      <td>112666</td>\n",
       "      <td>intel</td>\n",
       "      <td>i5</td>\n",
       "      <td>2.3</td>\n",
       "      <td>intel</td>\n",
       "      <td>2.0</td>\n",
       "      <td>mac</td>\n",
       "      <td>3.02</td>\n",
       "      <td>NaN</td>\n",
       "    </tr>\n",
       "    <tr>\n",
       "      <td>...</td>\n",
       "      <td>...</td>\n",
       "      <td>...</td>\n",
       "      <td>...</td>\n",
       "      <td>...</td>\n",
       "      <td>...</td>\n",
       "      <td>...</td>\n",
       "      <td>...</td>\n",
       "      <td>...</td>\n",
       "      <td>...</td>\n",
       "      <td>...</td>\n",
       "      <td>...</td>\n",
       "      <td>...</td>\n",
       "      <td>...</td>\n",
       "      <td>...</td>\n",
       "      <td>...</td>\n",
       "    </tr>\n",
       "    <tr>\n",
       "      <td>162</td>\n",
       "      <td>Asus</td>\n",
       "      <td>A555LF</td>\n",
       "      <td>8</td>\n",
       "      <td>hdd</td>\n",
       "      <td>1024</td>\n",
       "      <td>15.6</td>\n",
       "      <td>39961</td>\n",
       "      <td>intel</td>\n",
       "      <td>i3 4th gen</td>\n",
       "      <td>1.7</td>\n",
       "      <td>nvidia</td>\n",
       "      <td>2.0</td>\n",
       "      <td>windows</td>\n",
       "      <td>2.30</td>\n",
       "      <td>NaN</td>\n",
       "    </tr>\n",
       "    <tr>\n",
       "      <td>163</td>\n",
       "      <td>Asus</td>\n",
       "      <td>X555LA-XX172D</td>\n",
       "      <td>4</td>\n",
       "      <td>hdd</td>\n",
       "      <td>500</td>\n",
       "      <td>15.6</td>\n",
       "      <td>28489</td>\n",
       "      <td>intel</td>\n",
       "      <td>i3 4th gen</td>\n",
       "      <td>1.9</td>\n",
       "      <td>intel</td>\n",
       "      <td>NaN</td>\n",
       "      <td>linux</td>\n",
       "      <td>2.30</td>\n",
       "      <td>NaN</td>\n",
       "    </tr>\n",
       "    <tr>\n",
       "      <td>164</td>\n",
       "      <td>Asus</td>\n",
       "      <td>X554LD</td>\n",
       "      <td>2</td>\n",
       "      <td>hdd</td>\n",
       "      <td>500</td>\n",
       "      <td>15.6</td>\n",
       "      <td>29199</td>\n",
       "      <td>intel</td>\n",
       "      <td>i3 4th gen</td>\n",
       "      <td>1.9</td>\n",
       "      <td>intel</td>\n",
       "      <td>1.0</td>\n",
       "      <td>linux</td>\n",
       "      <td>2.30</td>\n",
       "      <td>NaN</td>\n",
       "    </tr>\n",
       "    <tr>\n",
       "      <td>165</td>\n",
       "      <td>Asus</td>\n",
       "      <td>X550LAV-XX771D</td>\n",
       "      <td>2</td>\n",
       "      <td>hdd</td>\n",
       "      <td>500</td>\n",
       "      <td>15.6</td>\n",
       "      <td>29990</td>\n",
       "      <td>intel</td>\n",
       "      <td>i3 4th gen</td>\n",
       "      <td>1.7</td>\n",
       "      <td>intel</td>\n",
       "      <td>NaN</td>\n",
       "      <td>linux</td>\n",
       "      <td>2.50</td>\n",
       "      <td>NaN</td>\n",
       "    </tr>\n",
       "    <tr>\n",
       "      <td>166</td>\n",
       "      <td>Asus</td>\n",
       "      <td>X540LA-XX538T</td>\n",
       "      <td>4</td>\n",
       "      <td>hdd</td>\n",
       "      <td>1024</td>\n",
       "      <td>15.6</td>\n",
       "      <td>30899</td>\n",
       "      <td>intel</td>\n",
       "      <td>i3 5th gen</td>\n",
       "      <td>2.0</td>\n",
       "      <td>intel</td>\n",
       "      <td>NaN</td>\n",
       "      <td>windows</td>\n",
       "      <td>2.30</td>\n",
       "      <td>NaN</td>\n",
       "    </tr>\n",
       "  </tbody>\n",
       "</table>\n",
       "<p>167 rows × 15 columns</p>\n",
       "</div>"
      ],
      "text/plain": [
       "     brand             model  ram hd_type  hd_size  screen_size   price  \\\n",
       "0     Dell  Inspiron 15-3567    4     hdd     1024         15.6   40000   \n",
       "1    Apple       MacBook Air    8     ssd      128         13.3   55499   \n",
       "2    Apple       MacBook Air    8     ssd      256         13.3   71500   \n",
       "3    Apple       MacBook Pro    8     ssd      128         13.3   96890   \n",
       "4    Apple       MacBook Pro    8     ssd      256         13.3  112666   \n",
       "..     ...               ...  ...     ...      ...          ...     ...   \n",
       "162   Asus            A555LF    8     hdd     1024         15.6   39961   \n",
       "163   Asus     X555LA-XX172D    4     hdd      500         15.6   28489   \n",
       "164   Asus            X554LD    2     hdd      500         15.6   29199   \n",
       "165   Asus    X550LAV-XX771D    2     hdd      500         15.6   29990   \n",
       "166   Asus     X540LA-XX538T    4     hdd     1024         15.6   30899   \n",
       "\n",
       "    processor_brand processor_model  clock_speed graphic_card_brand  \\\n",
       "0             intel              i5          2.5              intel   \n",
       "1             intel              i5          1.8              intel   \n",
       "2             intel              i5          1.8              intel   \n",
       "3             intel              i5          2.3              intel   \n",
       "4             intel              i5          2.3              intel   \n",
       "..              ...             ...          ...                ...   \n",
       "162           intel      i3 4th gen          1.7             nvidia   \n",
       "163           intel      i3 4th gen          1.9              intel   \n",
       "164           intel      i3 4th gen          1.9              intel   \n",
       "165           intel      i3 4th gen          1.7              intel   \n",
       "166           intel      i3 5th gen          2.0              intel   \n",
       "\n",
       "     graphic_card_size       os  weight comments  \n",
       "0                  NaN    linux    2.50      NaN  \n",
       "1                  2.0      mac    1.35      NaN  \n",
       "2                  2.0      mac    1.35      NaN  \n",
       "3                  2.0      mac    3.02      NaN  \n",
       "4                  2.0      mac    3.02      NaN  \n",
       "..                 ...      ...     ...      ...  \n",
       "162                2.0  windows    2.30      NaN  \n",
       "163                NaN    linux    2.30      NaN  \n",
       "164                1.0    linux    2.30      NaN  \n",
       "165                NaN    linux    2.50      NaN  \n",
       "166                NaN  windows    2.30      NaN  \n",
       "\n",
       "[167 rows x 15 columns]"
      ]
     },
     "execution_count": 2,
     "metadata": {},
     "output_type": "execute_result"
    }
   ],
   "source": [
    "laptops_df = pd.read_csv('data/laptops.csv')\n",
    "laptops_df"
   ]
  },
  {
   "cell_type": "code",
   "execution_count": 3,
   "metadata": {},
   "outputs": [
    {
     "data": {
      "text/plain": [
       "array(['linux', 'mac', 'windows'], dtype=object)"
      ]
     },
     "execution_count": 3,
     "metadata": {},
     "output_type": "execute_result"
    }
   ],
   "source": [
    "# os의 값들은 무엇이 있을까?\n",
    "\n",
    "laptops_df['os'].unique()"
   ]
  },
  {
   "cell_type": "markdown",
   "metadata": {},
   "source": [
    "# sns.catplot()\n",
    "#### 여기서 cat은 카테고리의 줄임말을 의미"
   ]
  },
  {
   "cell_type": "code",
   "execution_count": 4,
   "metadata": {},
   "outputs": [
    {
     "data": {
      "text/plain": [
       "<seaborn.axisgrid.FacetGrid at 0x2b3d16cd3c8>"
      ]
     },
     "execution_count": 4,
     "metadata": {},
     "output_type": "execute_result"
    },
    {
     "data": {
      "image/png": "[encoded data removed]",
      "text/plain": [
       "<Figure size 360x360 with 1 Axes>"
      ]
     },
     "metadata": {
      "needs_background": "light"
     },
     "output_type": "display_data"
    }
   ],
   "source": [
    "# 카테고리별 분류 중 박스플롯\n",
    "\n",
    "sns.catplot(data=laptops_df, x='os', y='price', kind='box')"
   ]
  },
  {
   "cell_type": "markdown",
   "metadata": {},
   "source": [
    "리눅스 가격이 낮게 형성되어 있다.\n",
    "맥과 윈도우즈의 가격대가 넓게 형성되어 있다."
   ]
  },
  {
   "cell_type": "code",
   "execution_count": 5,
   "metadata": {},
   "outputs": [
    {
     "data": {
      "text/plain": [
       "<seaborn.axisgrid.FacetGrid at 0x2b3d1e83cc8>"
      ]
     },
     "execution_count": 5,
     "metadata": {},
     "output_type": "execute_result"
    },
    {
     "data": {
      "image/png": "[encoded data removed]",
      "text/plain": [
       "<Figure size 360x360 with 1 Axes>"
      ]
     },
     "metadata": {
      "needs_background": "light"
     },
     "output_type": "display_data"
    }
   ],
   "source": [
    "# 바이올린 플롯\n",
    "# laptops_df.violinplot() 으로 써도 무방하다. 미세한 차이가 있다.\n",
    "sns.catplot(data=laptops_df, x='os', y='price', kind='violin')"
   ]
  },
  {
   "cell_type": "markdown",
   "metadata": {},
   "source": [
    "#### 각 데이터에 얼마나 있는지 모르니까 위의 플롯들에 대한 정확도가 떨어짐\n",
    "#### 이를 해결하기 위해 strip plot을 쓰면 된다\n",
    "# strip plot"
   ]
  },
  {
   "cell_type": "markdown",
   "metadata": {},
   "source": [
    "# 스트립 플롯\n",
    "sns.catplot(data=laptops_df, x='os', y='price', kind='strip')"
   ]
  },
  {
   "cell_type": "markdown",
   "metadata": {},
   "source": [
    "스트립 플롯 안에서 컴퓨터 프로세서 기업을 또 분류하고 싶다면?"
   ]
  },
  {
   "cell_type": "code",
   "execution_count": 7,
   "metadata": {},
   "outputs": [
    {
     "data": {
      "text/plain": [
       "array(['intel', 'amd'], dtype=object)"
      ]
     },
     "execution_count": 7,
     "metadata": {},
     "output_type": "execute_result"
    }
   ],
   "source": [
    "laptops_df['processor_brand'].unique()"
   ]
  },
  {
   "cell_type": "code",
   "execution_count": 9,
   "metadata": {},
   "outputs": [
    {
     "data": {
      "text/plain": [
       "<seaborn.axisgrid.FacetGrid at 0x2b3d2fc9b48>"
      ]
     },
     "execution_count": 9,
     "metadata": {},
     "output_type": "execute_result"
    },
    {
     "data": {
      "image/png": "[encoded data removed]",
      "text/plain": [
       "<Figure size 450.875x360 with 1 Axes>"
      ]
     },
     "metadata": {
      "needs_background": "light"
     },
     "output_type": "display_data"
    }
   ],
   "source": [
    "sns.catplot(data=laptops_df, x='os', y='price', kind='strip', hue='processor_brand')\n",
    "# hue는 입력시킨 데이터를 범주를 스트립 플롯 내에서 또 나눠준다."
   ]
  },
  {
   "cell_type": "markdown",
   "metadata": {},
   "source": [
    "# swarm plot\n",
    "#### 위의 그래프가 겹쳐보인다. 이를 해결하고자 할 때 사용."
   ]
  },
  {
   "cell_type": "code",
   "execution_count": 10,
   "metadata": {},
   "outputs": [
    {
     "data": {
      "text/plain": [
       "<seaborn.axisgrid.FacetGrid at 0x2b3d2feae48>"
      ]
     },
     "execution_count": 10,
     "metadata": {},
     "output_type": "execute_result"
    },
    {
     "data": {
      "image/png": "[encoded data removed]",
      "text/plain": [
       "<Figure size 450.875x360 with 1 Axes>"
      ]
     },
     "metadata": {
      "needs_background": "light"
     },
     "output_type": "display_data"
    }
   ],
   "source": [
    "sns.catplot(data=laptops_df, x='os', y='price', kind='swarm', hue='processor_brand')"
   ]
  }
 ],
 "metadata": {
  "kernelspec": {
   "display_name": "Python 3",
   "language": "python",
   "name": "python3"
  },
  "language_info": {
   "codemirror_mode": {
    "name": "ipython",
    "version": 3
   },
   "file_extension": ".py",
   "mimetype": "text/x-python",
   "name": "python",
   "nbconvert_exporter": "python",
   "pygments_lexer": "ipython3",
   "version": "3.7.4"
  }
 },
 "nbformat": 4,
 "nbformat_minor": 2
}
