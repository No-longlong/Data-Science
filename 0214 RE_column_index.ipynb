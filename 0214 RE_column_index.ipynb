{
 "cells": [
  {
   "cell_type": "markdown",
   "metadata": {},
   "source": [
    "# 데이터 변형하기\n",
    "## 06. index/column 설정하기\n",
    "- column 이름 변경(dict 활용)\n",
    "- index 변경 "
   ]
  },
  {
   "cell_type": "code",
   "execution_count": 1,
   "metadata": {},
   "outputs": [],
   "source": [
    "import pandas as pd"
   ]
  },
  {
   "cell_type": "code",
   "execution_count": 3,
   "metadata": {},
   "outputs": [
    {
     "data": {
      "text/html": [
       "<div>\n",
       "<style scoped>\n",
       "    .dataframe tbody tr th:only-of-type {\n",
       "        vertical-align: middle;\n",
       "    }\n",
       "\n",
       "    .dataframe tbody tr th {\n",
       "        vertical-align: top;\n",
       "    }\n",
       "\n",
       "    .dataframe thead th {\n",
       "        text-align: right;\n",
       "    }\n",
       "</style>\n",
       "<table border=\"1\" class=\"dataframe\">\n",
       "  <thead>\n",
       "    <tr style=\"text-align: right;\">\n",
       "      <th></th>\n",
       "      <th>position</th>\n",
       "      <th>born</th>\n",
       "      <th>number</th>\n",
       "      <th>nationality</th>\n",
       "    </tr>\n",
       "  </thead>\n",
       "  <tbody>\n",
       "    <tr>\n",
       "      <td>Roberto Firmino</td>\n",
       "      <td>FW</td>\n",
       "      <td>1991</td>\n",
       "      <td>no. 9</td>\n",
       "      <td>Brazil</td>\n",
       "    </tr>\n",
       "    <tr>\n",
       "      <td>Sadio Mane</td>\n",
       "      <td>FW</td>\n",
       "      <td>1992</td>\n",
       "      <td>no. 10</td>\n",
       "      <td>Senegal</td>\n",
       "    </tr>\n",
       "    <tr>\n",
       "      <td>Mohamed Salah</td>\n",
       "      <td>FW</td>\n",
       "      <td>1992</td>\n",
       "      <td>no. 11</td>\n",
       "      <td>Egypt</td>\n",
       "    </tr>\n",
       "    <tr>\n",
       "      <td>Joe Gomez</td>\n",
       "      <td>DF</td>\n",
       "      <td>1997</td>\n",
       "      <td>no. 12</td>\n",
       "      <td>England</td>\n",
       "    </tr>\n",
       "    <tr>\n",
       "      <td>Alisson Becker</td>\n",
       "      <td>GK</td>\n",
       "      <td>1992</td>\n",
       "      <td>no. 13</td>\n",
       "      <td>Brazil</td>\n",
       "    </tr>\n",
       "  </tbody>\n",
       "</table>\n",
       "</div>"
      ],
      "text/plain": [
       "                position  born  number nationality\n",
       "Roberto Firmino       FW  1991   no. 9      Brazil\n",
       "Sadio Mane            FW  1992  no. 10     Senegal\n",
       "Mohamed Salah         FW  1992  no. 11       Egypt\n",
       "Joe Gomez             DF  1997  no. 12     England\n",
       "Alisson Becker        GK  1992  no. 13      Brazil"
      ]
     },
     "execution_count": 3,
     "metadata": {},
     "output_type": "execute_result"
    }
   ],
   "source": [
    "liverpool_df = pd.read_csv('data/liverpool.csv', index_col=0)\n",
    "liverpool_df"
   ]
  },
  {
   "cell_type": "markdown",
   "metadata": {},
   "source": [
    "#### column 이름 변경\n",
    "- df.rename()"
   ]
  },
  {
   "cell_type": "code",
   "execution_count": 5,
   "metadata": {},
   "outputs": [],
   "source": [
    "# column 이름 변경 (rename)\n",
    "liverpool_df.rename(columns={\n",
    "    'position': \"Position\",\n",
    "'born': 'Born',\n",
    "'number': 'Number',\n",
    "'nationality': 'Nationality'}, inplace = True) \n",
    "# rename함수는 기존의 데이터프레임을 건들지 않고 새로운 데이터프레임을 만든다.\n",
    "# 기존의 df를 바꾸고 싶으면 inplace=True"
   ]
  },
  {
   "cell_type": "markdown",
   "metadata": {},
   "source": [
    "#### index 이름 변경\n",
    "- df.index.name"
   ]
  },
  {
   "cell_type": "code",
   "execution_count": 8,
   "metadata": {},
   "outputs": [
    {
     "data": {
      "text/html": [
       "<div>\n",
       "<style scoped>\n",
       "    .dataframe tbody tr th:only-of-type {\n",
       "        vertical-align: middle;\n",
       "    }\n",
       "\n",
       "    .dataframe tbody tr th {\n",
       "        vertical-align: top;\n",
       "    }\n",
       "\n",
       "    .dataframe thead th {\n",
       "        text-align: right;\n",
       "    }\n",
       "</style>\n",
       "<table border=\"1\" class=\"dataframe\">\n",
       "  <thead>\n",
       "    <tr style=\"text-align: right;\">\n",
       "      <th></th>\n",
       "      <th>Position</th>\n",
       "      <th>Born</th>\n",
       "      <th>Number</th>\n",
       "      <th>Nationality</th>\n",
       "    </tr>\n",
       "    <tr>\n",
       "      <th>Player Name</th>\n",
       "      <th></th>\n",
       "      <th></th>\n",
       "      <th></th>\n",
       "      <th></th>\n",
       "    </tr>\n",
       "  </thead>\n",
       "  <tbody>\n",
       "    <tr>\n",
       "      <td>Roberto Firmino</td>\n",
       "      <td>FW</td>\n",
       "      <td>1991</td>\n",
       "      <td>no. 9</td>\n",
       "      <td>Brazil</td>\n",
       "    </tr>\n",
       "    <tr>\n",
       "      <td>Sadio Mane</td>\n",
       "      <td>FW</td>\n",
       "      <td>1992</td>\n",
       "      <td>no. 10</td>\n",
       "      <td>Senegal</td>\n",
       "    </tr>\n",
       "    <tr>\n",
       "      <td>Mohamed Salah</td>\n",
       "      <td>FW</td>\n",
       "      <td>1992</td>\n",
       "      <td>no. 11</td>\n",
       "      <td>Egypt</td>\n",
       "    </tr>\n",
       "    <tr>\n",
       "      <td>Joe Gomez</td>\n",
       "      <td>DF</td>\n",
       "      <td>1997</td>\n",
       "      <td>no. 12</td>\n",
       "      <td>England</td>\n",
       "    </tr>\n",
       "    <tr>\n",
       "      <td>Alisson Becker</td>\n",
       "      <td>GK</td>\n",
       "      <td>1992</td>\n",
       "      <td>no. 13</td>\n",
       "      <td>Brazil</td>\n",
       "    </tr>\n",
       "  </tbody>\n",
       "</table>\n",
       "</div>"
      ],
      "text/plain": [
       "                Position  Born  Number Nationality\n",
       "Player Name                                       \n",
       "Roberto Firmino       FW  1991   no. 9      Brazil\n",
       "Sadio Mane            FW  1992  no. 10     Senegal\n",
       "Mohamed Salah         FW  1992  no. 11       Egypt\n",
       "Joe Gomez             DF  1997  no. 12     England\n",
       "Alisson Becker        GK  1992  no. 13      Brazil"
      ]
     },
     "execution_count": 8,
     "metadata": {},
     "output_type": "execute_result"
    }
   ],
   "source": [
    "# index 이름 변경\n",
    "liverpool_df.index.name = 'Player Name'\n",
    "liverpool_df"
   ]
  },
  {
   "cell_type": "markdown",
   "metadata": {},
   "source": [
    "#### index를 변경 (index_col)\n",
    "- df.set_index\n",
    "- 주의사항: 기존의 인덱스를 새로운 column으로 만들어줘야 한다. \n",
    "- 바뀌는 인덱스는 다른 값과 중복되지 않아야 한다."
   ]
  },
  {
   "cell_type": "code",
   "execution_count": 9,
   "metadata": {
    "scrolled": true
   },
   "outputs": [
    {
     "data": {
      "text/plain": [
       "Index(['Roberto Firmino', 'Sadio Mane', 'Mohamed Salah', 'Joe Gomez',\n",
       "       'Alisson Becker'],\n",
       "      dtype='object', name='Player Name')"
      ]
     },
     "execution_count": 9,
     "metadata": {},
     "output_type": "execute_result"
    }
   ],
   "source": [
    "liverpool_df.index # 현재 인덱스(선수이름)"
   ]
  },
  {
   "cell_type": "code",
   "execution_count": 10,
   "metadata": {},
   "outputs": [
    {
     "data": {
      "text/html": [
       "<div>\n",
       "<style scoped>\n",
       "    .dataframe tbody tr th:only-of-type {\n",
       "        vertical-align: middle;\n",
       "    }\n",
       "\n",
       "    .dataframe tbody tr th {\n",
       "        vertical-align: top;\n",
       "    }\n",
       "\n",
       "    .dataframe thead th {\n",
       "        text-align: right;\n",
       "    }\n",
       "</style>\n",
       "<table border=\"1\" class=\"dataframe\">\n",
       "  <thead>\n",
       "    <tr style=\"text-align: right;\">\n",
       "      <th></th>\n",
       "      <th>Position</th>\n",
       "      <th>Born</th>\n",
       "      <th>Number</th>\n",
       "      <th>Nationality</th>\n",
       "      <th>Player Name</th>\n",
       "    </tr>\n",
       "    <tr>\n",
       "      <th>Player Name</th>\n",
       "      <th></th>\n",
       "      <th></th>\n",
       "      <th></th>\n",
       "      <th></th>\n",
       "      <th></th>\n",
       "    </tr>\n",
       "  </thead>\n",
       "  <tbody>\n",
       "    <tr>\n",
       "      <td>Roberto Firmino</td>\n",
       "      <td>FW</td>\n",
       "      <td>1991</td>\n",
       "      <td>no. 9</td>\n",
       "      <td>Brazil</td>\n",
       "      <td>Roberto Firmino</td>\n",
       "    </tr>\n",
       "    <tr>\n",
       "      <td>Sadio Mane</td>\n",
       "      <td>FW</td>\n",
       "      <td>1992</td>\n",
       "      <td>no. 10</td>\n",
       "      <td>Senegal</td>\n",
       "      <td>Sadio Mane</td>\n",
       "    </tr>\n",
       "    <tr>\n",
       "      <td>Mohamed Salah</td>\n",
       "      <td>FW</td>\n",
       "      <td>1992</td>\n",
       "      <td>no. 11</td>\n",
       "      <td>Egypt</td>\n",
       "      <td>Mohamed Salah</td>\n",
       "    </tr>\n",
       "    <tr>\n",
       "      <td>Joe Gomez</td>\n",
       "      <td>DF</td>\n",
       "      <td>1997</td>\n",
       "      <td>no. 12</td>\n",
       "      <td>England</td>\n",
       "      <td>Joe Gomez</td>\n",
       "    </tr>\n",
       "    <tr>\n",
       "      <td>Alisson Becker</td>\n",
       "      <td>GK</td>\n",
       "      <td>1992</td>\n",
       "      <td>no. 13</td>\n",
       "      <td>Brazil</td>\n",
       "      <td>Alisson Becker</td>\n",
       "    </tr>\n",
       "  </tbody>\n",
       "</table>\n",
       "</div>"
      ],
      "text/plain": [
       "                Position  Born  Number Nationality      Player Name\n",
       "Player Name                                                        \n",
       "Roberto Firmino       FW  1991   no. 9      Brazil  Roberto Firmino\n",
       "Sadio Mane            FW  1992  no. 10     Senegal       Sadio Mane\n",
       "Mohamed Salah         FW  1992  no. 11       Egypt    Mohamed Salah\n",
       "Joe Gomez             DF  1997  no. 12     England        Joe Gomez\n",
       "Alisson Becker        GK  1992  no. 13      Brazil   Alisson Becker"
      ]
     },
     "execution_count": 10,
     "metadata": {},
     "output_type": "execute_result"
    }
   ],
   "source": [
    "# 기존 index를 새로운 column에 배정\n",
    "liverpool_df['Player Name'] = liverpool_df.index\n",
    "liverpool_df"
   ]
  },
  {
   "cell_type": "code",
   "execution_count": 12,
   "metadata": {
    "scrolled": true
   },
   "outputs": [
    {
     "data": {
      "text/html": [
       "<div>\n",
       "<style scoped>\n",
       "    .dataframe tbody tr th:only-of-type {\n",
       "        vertical-align: middle;\n",
       "    }\n",
       "\n",
       "    .dataframe tbody tr th {\n",
       "        vertical-align: top;\n",
       "    }\n",
       "\n",
       "    .dataframe thead th {\n",
       "        text-align: right;\n",
       "    }\n",
       "</style>\n",
       "<table border=\"1\" class=\"dataframe\">\n",
       "  <thead>\n",
       "    <tr style=\"text-align: right;\">\n",
       "      <th></th>\n",
       "      <th>Position</th>\n",
       "      <th>Born</th>\n",
       "      <th>Nationality</th>\n",
       "      <th>Player Name</th>\n",
       "    </tr>\n",
       "    <tr>\n",
       "      <th>Number</th>\n",
       "      <th></th>\n",
       "      <th></th>\n",
       "      <th></th>\n",
       "      <th></th>\n",
       "    </tr>\n",
       "  </thead>\n",
       "  <tbody>\n",
       "    <tr>\n",
       "      <td>no. 9</td>\n",
       "      <td>FW</td>\n",
       "      <td>1991</td>\n",
       "      <td>Brazil</td>\n",
       "      <td>Roberto Firmino</td>\n",
       "    </tr>\n",
       "    <tr>\n",
       "      <td>no. 10</td>\n",
       "      <td>FW</td>\n",
       "      <td>1992</td>\n",
       "      <td>Senegal</td>\n",
       "      <td>Sadio Mane</td>\n",
       "    </tr>\n",
       "    <tr>\n",
       "      <td>no. 11</td>\n",
       "      <td>FW</td>\n",
       "      <td>1992</td>\n",
       "      <td>Egypt</td>\n",
       "      <td>Mohamed Salah</td>\n",
       "    </tr>\n",
       "    <tr>\n",
       "      <td>no. 12</td>\n",
       "      <td>DF</td>\n",
       "      <td>1997</td>\n",
       "      <td>England</td>\n",
       "      <td>Joe Gomez</td>\n",
       "    </tr>\n",
       "    <tr>\n",
       "      <td>no. 13</td>\n",
       "      <td>GK</td>\n",
       "      <td>1992</td>\n",
       "      <td>Brazil</td>\n",
       "      <td>Alisson Becker</td>\n",
       "    </tr>\n",
       "  </tbody>\n",
       "</table>\n",
       "</div>"
      ],
      "text/plain": [
       "       Position  Born Nationality      Player Name\n",
       "Number                                            \n",
       "no. 9        FW  1991      Brazil  Roberto Firmino\n",
       "no. 10       FW  1992     Senegal       Sadio Mane\n",
       "no. 11       FW  1992       Egypt    Mohamed Salah\n",
       "no. 12       DF  1997     England        Joe Gomez\n",
       "no. 13       GK  1992      Brazil   Alisson Becker"
      ]
     },
     "execution_count": 12,
     "metadata": {},
     "output_type": "execute_result"
    }
   ],
   "source": [
    "# index_col을 변경\n",
    "liverpool_df.set_index('Number', inplace=True)\n",
    "liverpool_df"
   ]
  }
 ],
 "metadata": {
  "kernelspec": {
   "display_name": "Python 3",
   "language": "python",
   "name": "python3"
  },
  "language_info": {
   "codemirror_mode": {
    "name": "ipython",
    "version": 3
   },
   "file_extension": ".py",
   "mimetype": "text/x-python",
   "name": "python",
   "nbconvert_exporter": "python",
   "pygments_lexer": "ipython3",
   "version": "3.7.4"
  }
 },
 "nbformat": 4,
 "nbformat_minor": 2
}
