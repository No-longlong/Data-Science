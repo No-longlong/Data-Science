{
 "cells": [
  {
   "cell_type": "code",
   "execution_count": 70,
   "metadata": {},
   "outputs": [],
   "source": [
    "import requests\n",
    "from bs4 import BeautifulSoup\n",
    "import time\n",
    "import pandas as pd"
   ]
  },
  {
   "cell_type": "code",
   "execution_count": 92,
   "metadata": {},
   "outputs": [
    {
     "data": {
      "text/plain": [
       "'2010.01.04 ~ 2010.01.10'"
      ]
     },
     "execution_count": 92,
     "metadata": {},
     "output_type": "execute_result"
    }
   ],
   "source": [
    "response = requests.get(\"https://workey.codeit.kr/ratings/index\")\n",
    "soup = BeautifulSoup(response.text, 'html.parser')"
   ]
  },
  {
   "cell_type": "code",
   "execution_count": null,
   "metadata": {},
   "outputs": [],
   "source": [
    "columns = ['period', 'rank', 'channel', 'program', 'rating']\n",
    "\n",
    "years = list(range(2010, 2019))\n",
    "months = list(range(1, 13))\n",
    "weeks = list(range(5))\n",
    "\n",
    "records = []\n",
    "\n",
    "for year in years:\n",
    "    for month in months:\n",
    "        for week in weeks:\n",
    "            response = requests.get(f\"https://workey.codeit.kr/ratings/index?year={year}&month={month}&weekIndex={week}\")\n",
    "            soup = BeautifulSoup(response.text, 'html.parser')\n",
    "\n",
    "            for i in range(len(soup.select('td.rank'))):\n",
    "                list_bucket = []\n",
    "                periods = soup.select('select#weekSelectBox option[selected=selected]')\n",
    "                list_bucket.append(periods[0].text)# 2010.~.~ 선택된 날짜\n",
    "\n",
    "                ranks = soup.select('td.rank')\n",
    "                list_bucket.append(ranks[i].text)\n",
    "\n",
    "                channels = soup.select('td.channel')\n",
    "                list_bucket.append(channels[i].text)\n",
    "\n",
    "                programs = soup.select('td.program')\n",
    "                list_bucket.append(programs[i])\n",
    "\n",
    "                percent = soup.select('td.percent')\n",
    "                list_bucket.append(percent[i])\n",
    "\n",
    "                records.append(list_bucket)\n",
    "\n",
    "df = pd.DataFrame(records, columns=columns)\n",
    "df\n",
    "            \n",
    "            \n",
    "            "
   ]
  },
  {
   "cell_type": "code",
   "execution_count": 123,
   "metadata": {},
   "outputs": [
    {
     "data": {
      "text/plain": [
       "[<td class=\"rank\">1</td>,\n",
       " <td class=\"rank\">2</td>,\n",
       " <td class=\"rank\">3</td>,\n",
       " <td class=\"rank\">4</td>,\n",
       " <td class=\"rank\">5</td>,\n",
       " <td class=\"rank\">6</td>,\n",
       " <td class=\"rank\">7</td>,\n",
       " <td class=\"rank\">8</td>,\n",
       " <td class=\"rank\">9</td>,\n",
       " <td class=\"rank\">10</td>]"
      ]
     },
     "execution_count": 123,
     "metadata": {},
     "output_type": "execute_result"
    }
   ],
   "source": [
    "soup.select('td.rank')"
   ]
  },
  {
   "cell_type": "code",
   "execution_count": 112,
   "metadata": {},
   "outputs": [
    {
     "data": {
      "text/plain": [
       "[<option selected=\"selected\" value=\"3\">2011.05.16 ~ 2011.05.22</option>]"
      ]
     },
     "execution_count": 112,
     "metadata": {},
     "output_type": "execute_result"
    }
   ],
   "source": [
    "# 해당 날짜에 있는 5개의 week들\n",
    "periods = soup.select('select#weekSelectBox option[selected=selected]')\n",
    "periods"
   ]
  },
  {
   "cell_type": "code",
   "execution_count": 98,
   "metadata": {},
   "outputs": [
    {
     "data": {
      "text/plain": [
       "[<td class=\"rank\">1</td>,\n",
       " <td class=\"rank\">2</td>,\n",
       " <td class=\"rank\">3</td>,\n",
       " <td class=\"rank\">4</td>,\n",
       " <td class=\"rank\">5</td>,\n",
       " <td class=\"rank\">6</td>,\n",
       " <td class=\"rank\">7</td>,\n",
       " <td class=\"rank\">8</td>,\n",
       " <td class=\"rank\">9</td>,\n",
       " <td class=\"rank\">10</td>]"
      ]
     },
     "execution_count": 98,
     "metadata": {},
     "output_type": "execute_result"
    }
   ],
   "source": [
    "# 순위\n",
    "soup.select('td.rank')"
   ]
  },
  {
   "cell_type": "code",
   "execution_count": 100,
   "metadata": {},
   "outputs": [
    {
     "data": {
      "text/plain": [
       "[<td class=\"channel\">KBS2</td>,\n",
       " <td class=\"channel\">KBS1</td>,\n",
       " <td class=\"channel\">KBS2</td>,\n",
       " <td class=\"channel\">MBC</td>,\n",
       " <td class=\"channel\">SBS</td>,\n",
       " <td class=\"channel\">MBC</td>,\n",
       " <td class=\"channel\">MBC</td>,\n",
       " <td class=\"channel\">SBS</td>,\n",
       " <td class=\"channel\">MBC</td>,\n",
       " <td class=\"channel\">MBC</td>]"
      ]
     },
     "execution_count": 100,
     "metadata": {},
     "output_type": "execute_result"
    }
   ],
   "source": [
    "# 채널\n",
    "soup.select('td.channel')"
   ]
  },
  {
   "cell_type": "code",
   "execution_count": 101,
   "metadata": {},
   "outputs": [
    {
     "data": {
      "text/plain": [
       "[<td class=\"program\">주말연속극(수상한삼형제)</td>,\n",
       " <td class=\"program\">일일연속극(다함께차차차)</td>,\n",
       " <td class=\"program\">해피선데이</td>,\n",
       " <td class=\"program\">MBC연기대상2부</td>,\n",
       " <td class=\"program\">주말극장(천만번사랑해)</td>,\n",
       " <td class=\"program\">MBC방송연예대상2부</td>,\n",
       " <td class=\"program\">MBC방송연예대상1부</td>,\n",
       " <td class=\"program\">SBS연예대상2부</td>,\n",
       " <td class=\"program\">주말기획드라마(보석비빔밥)</td>,\n",
       " <td class=\"program\">일일시트콤(지붕뚫고하이킥)</td>]"
      ]
     },
     "execution_count": 101,
     "metadata": {},
     "output_type": "execute_result"
    }
   ],
   "source": [
    "# 프로그램\n",
    "soup.select('td.program')"
   ]
  },
  {
   "cell_type": "code",
   "execution_count": 102,
   "metadata": {},
   "outputs": [
    {
     "data": {
      "text/plain": [
       "[<td class=\"percent\">33.4</td>,\n",
       " <td class=\"percent\">33.1</td>,\n",
       " <td class=\"percent\">27.1</td>,\n",
       " <td class=\"percent\">24.4</td>,\n",
       " <td class=\"percent\">24.2</td>,\n",
       " <td class=\"percent\">24.0</td>,\n",
       " <td class=\"percent\">22.4</td>,\n",
       " <td class=\"percent\">21.1</td>,\n",
       " <td class=\"percent\">20.9</td>,\n",
       " <td class=\"percent\">19.9</td>]"
      ]
     },
     "execution_count": 102,
     "metadata": {},
     "output_type": "execute_result"
    }
   ],
   "source": [
    "# 시청률\n",
    "soup.select('td.percent')"
   ]
  }
 ],
 "metadata": {
  "kernelspec": {
   "display_name": "Python 3",
   "language": "python",
   "name": "python3"
  },
  "language_info": {
   "codemirror_mode": {
    "name": "ipython",
    "version": 3
   },
   "file_extension": ".py",
   "mimetype": "text/x-python",
   "name": "python",
   "nbconvert_exporter": "python",
   "pygments_lexer": "ipython3",
   "version": "3.7.6"
  }
 },
 "nbformat": 4,
 "nbformat_minor": 4
}
