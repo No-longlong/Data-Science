{
 "cells": [
  {
   "cell_type": "markdown",
   "metadata": {},
   "source": [
    "## 실습과제\n",
    "2,000명의 코드잇 대학교 학생들이 수강신청을 했습니다.\n",
    "\n",
    "\n",
    "수강신청에는 다음 3개의 조건이 있습니다.\n",
    "\n",
    "\n",
    "1. “information technology” 과목은 심화과목이라 1학년은 수강할 수 없습니다.\n",
    "2. “commerce” 과목은 기초과목이고 많은 학생들이 듣는 수업이라 4학년은 수강할 수 없습니다.\n",
    "3. 수강생이 5명이 되지 않으면 강의는 폐강되어 수강할 수 없습니다.\n",
    "\n",
    "기존 DataFrame에 “status”라는 이름의 column을 추가하고, 학생이 수강 가능한 상태이면 “allowed”, 수강 불가능한 상태이면 “not allowed”를 넣어주세요.\n",
    "\n",
    "3번 시리즈에서 불린값을 찾아서 해당 인덱스를 리스트에 넣고 for을 통해 해결"
   ]
  },
  {
   "cell_type": "markdown",
   "metadata": {},
   "source": [
    "# 실습과제\n",
    "\n",
    "수강 신청이 완료되었습니다. 이제 각 과목을 수강하는 학생수에 따라 크기가 다른 강의실을 배치하려고 합니다.\n",
    "\n",
    "\n",
    "강의실은 규모에 따라 “Auditorium”, “Large room”, “Medium room”, “Small room” 총 4가지 종류가 있습니다.\n",
    "\n",
    "\n",
    "아래 조건에 따라 강의실 종류를 지정해 주세요.\n",
    "\n",
    "\n",
    "1. 80명 이상의 학생이 수강하는 과목은 “Auditorium”에서 진행됩니다.\n",
    "2. 40명 이상, 80명 미만의 학생이 수강하는 과목은 “Large room”에서 진행됩니다.\n",
    "3. 15명 이상, 40명 미만의 학생이 수강하는 과목은 “Medium room”에서 진행됩니다.\n",
    "4. 5명 이상, 15명 미만의 학생이 수강하는 과목은 “Small room”에서 진행됩니다.\n",
    "5. 폐강 등의 이유로 status가 “not allowed”인 수강생은 room assignment 또한 “not assigned”가 되어야 합니다."
   ]
  },
  {
   "cell_type": "code",
   "execution_count": 18,
   "metadata": {},
   "outputs": [
    {
     "data": {
      "text/plain": [
       "0       True\n",
       "1       True\n",
       "2       True\n",
       "3       True\n",
       "4       True\n",
       "        ... \n",
       "1995    True\n",
       "1996    True\n",
       "1997    True\n",
       "1998    True\n",
       "1999    True\n",
       "Name: status, Length: 2000, dtype: bool"
      ]
     },
     "execution_count": 18,
     "metadata": {},
     "output_type": "execute_result"
    }
   ],
   "source": [
    "import pandas as pd\n",
    "\n",
    "df = pd.read_csv('data/enrolment_1.csv')\n",
    "df.head()\n",
    "\n",
    "df['status'] = 'allowed'\n",
    "df.loc[(df['course name'] == 'information technology') & (df['year'] == 1), 'status'] = 'not allowed'\n",
    "df.loc[(df['course name'] == 'commerce') & (df['year'] == 4), 'status'] = 'not allowed'\n",
    "\n",
    "allowed = df['status'] == 'allowed'\n",
    "\n",
    "df[allowed, 'status']"
   ]
  },
  {
   "cell_type": "code",
   "execution_count": null,
   "metadata": {},
   "outputs": [],
   "source": []
  }
 ],
 "metadata": {
  "kernelspec": {
   "display_name": "Python 3.7.4 64-bit ('base': conda)",
   "language": "python",
   "name": "python37464bitbaseconda93698c85a6fd4c0c9a379e0ad6757577"
  },
  "language_info": {
   "codemirror_mode": {
    "name": "ipython",
    "version": 3
   },
   "file_extension": ".py",
   "mimetype": "text/x-python",
   "name": "python",
   "nbconvert_exporter": "python",
   "pygments_lexer": "ipython3",
   "version": "3.7.4"
  }
 },
 "nbformat": 4,
 "nbformat_minor": 2
}
