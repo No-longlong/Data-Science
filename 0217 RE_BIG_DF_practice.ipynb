{
 "cells": [
  {
   "cell_type": "markdown",
   "metadata": {},
   "source": [
    "## 실습과제\n",
    "2,000명의 코드잇 대학교 학생들이 수강신청을 했습니다.\n",
    "\n",
    "\n",
    "수강신청에는 다음 3개의 조건이 있습니다.\n",
    "\n",
    "\n",
    "1. “information technology” 과목은 심화과목이라 1학년은 수강할 수 없습니다.\n",
    "2. “commerce” 과목은 기초과목이고 많은 학생들이 듣는 수업이라 4학년은 수강할 수 없습니다.\n",
    "3. 수강생이 5명이 되지 않으면 강의는 폐강되어 수강할 수 없습니다.\n",
    "\n",
    "기존 DataFrame에 “status”라는 이름의 column을 추가하고, 학생이 수강 가능한 상태이면 “allowed”, 수강 불가능한 상태이면 “not allowed”를 넣어주세요.\n",
    "\n",
    "3번 시리즈에서 불린값을 찾아서 해당 인덱스를 리스트에 넣고 for을 통해 해결"
   ]
  },
  {
   "cell_type": "code",
   "execution_count": 55,
   "metadata": {},
   "outputs": [],
   "source": [
    "import pandas as pd\n",
    "\n",
    "df = pd.read_csv('data/enrolment_1.csv')\n",
    "\n",
    "df.head()\n",
    "df['status'] = 'allowed'"
   ]
  },
  {
   "cell_type": "code",
   "execution_count": 56,
   "metadata": {},
   "outputs": [
    {
     "data": {
      "text/plain": [
       "allowed        1994\n",
       "not allowed       6\n",
       "Name: status, dtype: int64"
      ]
     },
     "execution_count": 56,
     "metadata": {},
     "output_type": "execute_result"
    }
   ],
   "source": [
    "# 조건1\n",
    "df.loc[(df['course name'] == 'information technology') & (df['year'] == 1), 'status'] = 'not allowed'\n",
    "df['status'].value_counts()"
   ]
  },
  {
   "cell_type": "code",
   "execution_count": 57,
   "metadata": {},
   "outputs": [
    {
     "data": {
      "text/plain": [
       "allowed        1990\n",
       "not allowed      10\n",
       "Name: status, dtype: int64"
      ]
     },
     "execution_count": 57,
     "metadata": {},
     "output_type": "execute_result"
    }
   ],
   "source": [
    "# 조건2\n",
    "df.loc[(df['course name'] == 'commerce') & (df['year'] == 4), 'status'] = 'not allowed'\n",
    "df['status'].value_counts()"
   ]
  },
  {
   "cell_type": "code",
   "execution_count": 58,
   "metadata": {},
   "outputs": [],
   "source": [
    "# 조건3\n",
    "course_count = df['course name'].value_counts()\n",
    "course_list = list(course_count[course_count<5].index)\n",
    "for course in course_list:\n",
    "    df.loc[df['course name'] == course, 'status'] = 'not allowed'"
   ]
  },
  {
   "cell_type": "code",
   "execution_count": 59,
   "metadata": {
    "scrolled": true
   },
   "outputs": [
    {
     "data": {
      "text/plain": [
       "allowed        1448\n",
       "not allowed     552\n",
       "Name: status, dtype: int64"
      ]
     },
     "execution_count": 59,
     "metadata": {},
     "output_type": "execute_result"
    }
   ],
   "source": [
    "df['status'].value_counts()"
   ]
  },
  {
   "cell_type": "markdown",
   "metadata": {},
   "source": [
    "# 실습과제\n",
    "\n",
    "수강 신청이 완료되었습니다. 이제 각 과목을 수강하는 학생수에 따라 크기가 다른 강의실을 배치하려고 합니다.\n",
    "\n",
    "\n",
    "강의실은 규모에 따라 “Auditorium”, “Large room”, “Medium room”, “Small room” 총 4가지 종류가 있습니다.\n",
    "\n",
    "\n",
    "아래 조건에 따라 강의실 종류를 지정해 주세요.\n",
    "\n",
    "\n",
    "1. 80명 이상의 학생이 수강하는 과목은 “Auditorium”에서 진행됩니다.\n",
    "2. 40명 이상, 80명 미만의 학생이 수강하는 과목은 “Large room”에서 진행됩니다.\n",
    "3. 15명 이상, 40명 미만의 학생이 수강하는 과목은 “Medium room”에서 진행됩니다.\n",
    "4. 5명 이상, 15명 미만의 학생이 수강하는 과목은 “Small room”에서 진행됩니다.\n",
    "5. 폐강 등의 이유로 status가 “not allowed”인 수강생은 room assignment 또한 “not assigned”가 되어야 합니다."
   ]
  },
  {
   "cell_type": "code",
   "execution_count": 93,
   "metadata": {},
   "outputs": [
    {
     "data": {
      "text/html": [
       "<div>\n",
       "<style scoped>\n",
       "    .dataframe tbody tr th:only-of-type {\n",
       "        vertical-align: middle;\n",
       "    }\n",
       "\n",
       "    .dataframe tbody tr th {\n",
       "        vertical-align: top;\n",
       "    }\n",
       "\n",
       "    .dataframe thead th {\n",
       "        text-align: right;\n",
       "    }\n",
       "</style>\n",
       "<table border=\"1\" class=\"dataframe\">\n",
       "  <thead>\n",
       "    <tr style=\"text-align: right;\">\n",
       "      <th></th>\n",
       "      <th>id</th>\n",
       "      <th>year</th>\n",
       "      <th>course name</th>\n",
       "      <th>status</th>\n",
       "      <th>room assignment</th>\n",
       "    </tr>\n",
       "  </thead>\n",
       "  <tbody>\n",
       "    <tr>\n",
       "      <td>0</td>\n",
       "      <td>2777729</td>\n",
       "      <td>1</td>\n",
       "      <td>science</td>\n",
       "      <td>allowed</td>\n",
       "      <td>not assigned</td>\n",
       "    </tr>\n",
       "    <tr>\n",
       "      <td>1</td>\n",
       "      <td>2777730</td>\n",
       "      <td>2</td>\n",
       "      <td>science</td>\n",
       "      <td>allowed</td>\n",
       "      <td>not assigned</td>\n",
       "    </tr>\n",
       "    <tr>\n",
       "      <td>2</td>\n",
       "      <td>2777765</td>\n",
       "      <td>1</td>\n",
       "      <td>arts</td>\n",
       "      <td>allowed</td>\n",
       "      <td>not assigned</td>\n",
       "    </tr>\n",
       "    <tr>\n",
       "      <td>3</td>\n",
       "      <td>2777766</td>\n",
       "      <td>2</td>\n",
       "      <td>arts</td>\n",
       "      <td>allowed</td>\n",
       "      <td>not assigned</td>\n",
       "    </tr>\n",
       "    <tr>\n",
       "      <td>4</td>\n",
       "      <td>2777785</td>\n",
       "      <td>1</td>\n",
       "      <td>mba</td>\n",
       "      <td>allowed</td>\n",
       "      <td>not assigned</td>\n",
       "    </tr>\n",
       "  </tbody>\n",
       "</table>\n",
       "</div>"
      ],
      "text/plain": [
       "        id  year course name   status room assignment\n",
       "0  2777729     1     science  allowed    not assigned\n",
       "1  2777730     2     science  allowed    not assigned\n",
       "2  2777765     1        arts  allowed    not assigned\n",
       "3  2777766     2        arts  allowed    not assigned\n",
       "4  2777785     1         mba  allowed    not assigned"
      ]
     },
     "execution_count": 93,
     "metadata": {},
     "output_type": "execute_result"
    }
   ],
   "source": [
    "df['room assignment'] = 'not assigned'\n",
    "df.head()"
   ]
  },
  {
   "cell_type": "code",
   "execution_count": 68,
   "metadata": {},
   "outputs": [],
   "source": [
    "course_count = df['course name'].value_counts()"
   ]
  },
  {
   "cell_type": "code",
   "execution_count": 90,
   "metadata": {},
   "outputs": [],
   "source": [
    "df.loc[course_count[course_count >= 5], 'room assignment'] = 'Small room'\n",
    "df.loc[course_count[course_count >= 15], 'room assignment'] = 'Medium room'\n",
    "df.loc[course_count[course_count >= 40], 'room assignment'] = 'Large room'\n",
    "df.loc[course_count[course_count >= 80], 'room assignment'] = 'Auditorium'"
   ]
  },
  {
   "cell_type": "code",
   "execution_count": 91,
   "metadata": {
    "scrolled": true
   },
   "outputs": [
    {
     "data": {
      "text/plain": [
       "not assigned    1967\n",
       "Medium room       14\n",
       "Small room        10\n",
       "Large room         6\n",
       "Auditorium         3\n",
       "Name: room assignment, dtype: int64"
      ]
     },
     "execution_count": 91,
     "metadata": {},
     "output_type": "execute_result"
    }
   ],
   "source": [
    "df['room assignment'].value_counts()"
   ]
  },
  {
   "cell_type": "markdown",
   "metadata": {},
   "source": [
    "### ㅡㅡㅡㅡㅡㅡㅡ 위에 실패"
   ]
  },
  {
   "cell_type": "code",
   "execution_count": 95,
   "metadata": {},
   "outputs": [
    {
     "data": {
      "text/plain": [
       "arts                                   158\n",
       "science                                124\n",
       "commerce                               101\n",
       "english                                 56\n",
       "education                               41\n",
       "                                      ... \n",
       "dental                                   5\n",
       "interior design                          5\n",
       "building construction and mangement      5\n",
       "nanotechnology                           5\n",
       "mca                                      5\n",
       "Name: course name, Length: 82, dtype: int64"
      ]
     },
     "execution_count": 95,
     "metadata": {},
     "output_type": "execute_result"
    }
   ],
   "source": [
    "allowed = df['status'] == 'allowed'\n",
    "course_counts = df.loc[allowed, 'course name'].value_counts()\n",
    "course_counts"
   ]
  },
  {
   "cell_type": "code",
   "execution_count": 99,
   "metadata": {},
   "outputs": [],
   "source": [
    "auditorium_list = list(course_counts[course_counts>=80].index)\n",
    "largeroom_list = list(course_counts[(course_counts<80) & (course_counts>=40)].index)\n",
    "mediumroom_list = list(course_counts[(course_counts<40) & (course_counts>=15)].index)\n",
    "smallroom_list = list(course_counts[(course_counts<15) & (course_counts>=5)].index)"
   ]
  },
  {
   "cell_type": "code",
   "execution_count": 100,
   "metadata": {},
   "outputs": [],
   "source": [
    "df.loc[df['status'] == 'not allowed', 'room assignment'] = 'not assigned'"
   ]
  },
  {
   "cell_type": "code",
   "execution_count": 101,
   "metadata": {},
   "outputs": [],
   "source": [
    "for course in auditorium_list:\n",
    "    df.loc[(df['course name'] == course) & allowed, 'room assignment'] = 'Auditorium'\n",
    "    \n",
    "for course in large_room_list:\n",
    "    df.loc[(df['course name'] == course) & allowed, 'room assignment'] = 'Large room'\n",
    "    \n",
    "for course in medium_room_list:\n",
    "    df.loc[(df['course name'] == course) & allowed, 'room assignment'] = 'Medium room'\n",
    "    \n",
    "for course in small_room_list:\n",
    "    df.loc[(df['course name'] == course) & allowed, 'room assignment'] = 'Small room'"
   ]
  },
  {
   "cell_type": "code",
   "execution_count": 103,
   "metadata": {},
   "outputs": [
    {
     "data": {
      "text/plain": [
       "not assigned    542\n",
       "Medium room     531\n",
       "Small room      443\n",
       "Auditorium      387\n",
       "Large room       97\n",
       "Name: room assignment, dtype: int64"
      ]
     },
     "execution_count": 103,
     "metadata": {},
     "output_type": "execute_result"
    }
   ],
   "source": [
    "df['room assignment'].value_counts()"
   ]
  }
 ],
 "metadata": {
  "kernelspec": {
   "display_name": "Python 3.7.4 64-bit ('base': conda)",
   "language": "python",
   "name": "python37464bitbaseconda93698c85a6fd4c0c9a379e0ad6757577"
  },
  "language_info": {
   "codemirror_mode": {
    "name": "ipython",
    "version": 3
   },
   "file_extension": ".py",
   "mimetype": "text/x-python",
   "name": "python",
   "nbconvert_exporter": "python",
   "pygments_lexer": "ipython3",
   "version": "3.7.4"
  }
 },
 "nbformat": 4,
 "nbformat_minor": 2
}
